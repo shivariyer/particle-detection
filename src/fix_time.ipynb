{
 "cells": [
  {
   "cell_type": "code",
   "execution_count": 3,
   "metadata": {},
   "outputs": [
    {
     "name": "stdout",
     "output_type": "stream",
     "text": [
      "2120\n"
     ]
    },
    {
     "data": {
      "text/html": [
       "<div>\n",
       "<style scoped>\n",
       "    .dataframe tbody tr th:only-of-type {\n",
       "        vertical-align: middle;\n",
       "    }\n",
       "\n",
       "    .dataframe tbody tr th {\n",
       "        vertical-align: top;\n",
       "    }\n",
       "\n",
       "    .dataframe thead th {\n",
       "        text-align: right;\n",
       "    }\n",
       "</style>\n",
       "<table border=\"1\" class=\"dataframe\">\n",
       "  <thead>\n",
       "    <tr style=\"text-align: right;\">\n",
       "      <th></th>\n",
       "      <th>filename</th>\n",
       "      <th>datetime</th>\n",
       "      <th>location</th>\n",
       "      <th>file_format</th>\n",
       "      <th>light/dark</th>\n",
       "      <th>dt_round</th>\n",
       "      <th>dt_round_2</th>\n",
       "      <th>ppm</th>\n",
       "      <th>class</th>\n",
       "    </tr>\n",
       "  </thead>\n",
       "  <tbody>\n",
       "    <tr>\n",
       "      <th>0</th>\n",
       "      <td>50294736_435828830291236_2030158088675541642_n</td>\n",
       "      <td>2019-02-04 03:48:43+00:00</td>\n",
       "      <td>new delhi</td>\n",
       "      <td>jpg</td>\n",
       "      <td>NaN</td>\n",
       "      <td>2019-02-04 03:45:00+00:00</td>\n",
       "      <td>2019-02-04 04:00:00+05:30</td>\n",
       "      <td>131.565000</td>\n",
       "      <td>3</td>\n",
       "    </tr>\n",
       "    <tr>\n",
       "      <th>1</th>\n",
       "      <td>23279786_148197742578856_6378254909640278016_n</td>\n",
       "      <td>2017-11-08 13:24:15+00:00</td>\n",
       "      <td>NaN</td>\n",
       "      <td>jpg</td>\n",
       "      <td>NaN</td>\n",
       "      <td>2017-11-08 13:30:00+00:00</td>\n",
       "      <td>2017-11-08 13:00:00+05:30</td>\n",
       "      <td>523.672857</td>\n",
       "      <td>6</td>\n",
       "    </tr>\n",
       "    <tr>\n",
       "      <th>2</th>\n",
       "      <td>23416386_1840710242870758_1418351604486111232_n</td>\n",
       "      <td>2017-11-08 13:24:15+00:00</td>\n",
       "      <td>NaN</td>\n",
       "      <td>jpg</td>\n",
       "      <td>NaN</td>\n",
       "      <td>2017-11-08 13:30:00+00:00</td>\n",
       "      <td>2017-11-08 13:00:00+05:30</td>\n",
       "      <td>523.672857</td>\n",
       "      <td>6</td>\n",
       "    </tr>\n",
       "    <tr>\n",
       "      <th>3</th>\n",
       "      <td>23279242_754613681413241_2636689794633039872_n</td>\n",
       "      <td>2017-11-08 12:30:04+00:00</td>\n",
       "      <td>NaN</td>\n",
       "      <td>jpg</td>\n",
       "      <td>NaN</td>\n",
       "      <td>2017-11-08 12:30:00+00:00</td>\n",
       "      <td>2017-11-08 13:00:00+05:30</td>\n",
       "      <td>523.672857</td>\n",
       "      <td>6</td>\n",
       "    </tr>\n",
       "    <tr>\n",
       "      <th>4</th>\n",
       "      <td>23421744_157913204814458_5150676316399337472_n</td>\n",
       "      <td>2017-11-11 02:39:00+00:00</td>\n",
       "      <td>NaN</td>\n",
       "      <td>jpg</td>\n",
       "      <td>NaN</td>\n",
       "      <td>2017-11-11 02:45:00+00:00</td>\n",
       "      <td>2017-11-11 03:00:00+05:30</td>\n",
       "      <td>290.342500</td>\n",
       "      <td>5</td>\n",
       "    </tr>\n",
       "  </tbody>\n",
       "</table>\n",
       "</div>"
      ],
      "text/plain": [
       "                                          filename                  datetime  \\\n",
       "0   50294736_435828830291236_2030158088675541642_n 2019-02-04 03:48:43+00:00   \n",
       "1   23279786_148197742578856_6378254909640278016_n 2017-11-08 13:24:15+00:00   \n",
       "2  23416386_1840710242870758_1418351604486111232_n 2017-11-08 13:24:15+00:00   \n",
       "3   23279242_754613681413241_2636689794633039872_n 2017-11-08 12:30:04+00:00   \n",
       "4   23421744_157913204814458_5150676316399337472_n 2017-11-11 02:39:00+00:00   \n",
       "\n",
       "    location file_format light/dark                   dt_round  \\\n",
       "0  new delhi         jpg        NaN  2019-02-04 03:45:00+00:00   \n",
       "1        NaN         jpg        NaN  2017-11-08 13:30:00+00:00   \n",
       "2        NaN         jpg        NaN  2017-11-08 13:30:00+00:00   \n",
       "3        NaN         jpg        NaN  2017-11-08 12:30:00+00:00   \n",
       "4        NaN         jpg        NaN  2017-11-11 02:45:00+00:00   \n",
       "\n",
       "                  dt_round_2         ppm  class  \n",
       "0  2019-02-04 04:00:00+05:30  131.565000      3  \n",
       "1  2017-11-08 13:00:00+05:30  523.672857      6  \n",
       "2  2017-11-08 13:00:00+05:30  523.672857      6  \n",
       "3  2017-11-08 13:00:00+05:30  523.672857      6  \n",
       "4  2017-11-11 03:00:00+05:30  290.342500      5  "
      ]
     },
     "execution_count": 3,
     "metadata": {},
     "output_type": "execute_result"
    }
   ],
   "source": [
    "import pandas as pd\n",
    "\n",
    "delhi = pd.read_csv('../delhi_data_ed.csv')\n",
    "delhi['datetime'] = pd.to_datetime(delhi['datetime'])\n",
    "print(len(delhi))\n",
    "delhi.head()"
   ]
  },
  {
   "cell_type": "code",
   "execution_count": 7,
   "metadata": {},
   "outputs": [
    {
     "data": {
      "text/plain": [
       "array([nan, 'd', 'dark'], dtype=object)"
      ]
     },
     "execution_count": 7,
     "metadata": {},
     "output_type": "execute_result"
    }
   ],
   "source": [
    "delhi[\"light/dark\"].unique()"
   ]
  },
  {
   "cell_type": "code",
   "execution_count": 24,
   "metadata": {},
   "outputs": [
    {
     "data": {
      "text/plain": [
       "datetime.date(2019, 2, 4)"
      ]
     },
     "execution_count": 24,
     "metadata": {},
     "output_type": "execute_result"
    }
   ],
   "source": [
    "import datetime\n",
    "\n",
    "delhi[\"datetime\"].loc[delhi[\"datetime\"]==\"2019-02-04 03:48:43+00:00\"][0].date() #> datetime.time(3,50)\n",
    "\n"
   ]
  },
  {
   "cell_type": "code",
   "execution_count": 31,
   "metadata": {},
   "outputs": [
    {
     "name": "stderr",
     "output_type": "stream",
     "text": [
      "/Library/Frameworks/Python.framework/Versions/3.7/lib/python3.7/site-packages/ipykernel_launcher.py:15: FutureWarning: set_value is deprecated and will be removed in a future release. Please use .at[] or .iat[] accessors instead\n",
      "  from ipykernel import kernelapp as app\n",
      "/Library/Frameworks/Python.framework/Versions/3.7/lib/python3.7/site-packages/ipykernel_launcher.py:9: FutureWarning: set_value is deprecated and will be removed in a future release. Please use .at[] or .iat[] accessors instead\n",
      "  if __name__ == '__main__':\n"
     ]
    },
    {
     "name": "stdout",
     "output_type": "stream",
     "text": [
      "2120\n"
     ]
    }
   ],
   "source": [
    "for index,row in delhi.iterrows():\n",
    "    current_time = row[\"datetime\"].time()\n",
    "    current = row[\"datetime\"]\n",
    "    if isinstance(row[\"light/dark\"], str):\n",
    "        if current_time > datetime.time(7,0) and current_time < datetime.time(17,0):\n",
    "            #print(\"dark\")\n",
    "            #print(current)\n",
    "            #print(current-datetime.timedelta(hours=12))\n",
    "            delhi.set_value(index,'datetime',current-datetime.timedelta(hours=12))\n",
    "    else:\n",
    "        if current_time > datetime.time(21,0) or current_time < datetime.time(4,0):\n",
    "            #print(\"light\")\n",
    "            #print(current)\n",
    "            #print(current-datetime.timedelta(hours=12))\n",
    "            delhi.set_value(index,'datetime',current-datetime.timedelta(hours=12))\n",
    "\n",
    "print(len(delhi))"
   ]
  },
  {
   "cell_type": "code",
   "execution_count": 32,
   "metadata": {},
   "outputs": [],
   "source": [
    "#save\n",
    "delhi.to_csv('../delhi_data_2.csv',index=False)"
   ]
  },
  {
   "cell_type": "code",
   "execution_count": null,
   "metadata": {},
   "outputs": [],
   "source": []
  }
 ],
 "metadata": {
  "kernelspec": {
   "display_name": "Python 3",
   "language": "python",
   "name": "python3"
  },
  "language_info": {
   "codemirror_mode": {
    "name": "ipython",
    "version": 3
   },
   "file_extension": ".py",
   "mimetype": "text/x-python",
   "name": "python",
   "nbconvert_exporter": "python",
   "pygments_lexer": "ipython3",
   "version": "3.7.0"
  }
 },
 "nbformat": 4,
 "nbformat_minor": 2
}
