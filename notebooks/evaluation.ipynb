{
 "cells": [
  {
   "cell_type": "code",
   "execution_count": 19,
   "metadata": {},
   "outputs": [
    {
     "name": "stdout",
     "output_type": "stream",
     "text": [
      "The autoreload extension is already loaded. To reload it, use:\n",
      "  %reload_ext autoreload\n"
     ]
    }
   ],
   "source": [
    "%load_ext autoreload\n",
    "%autoreload 2\n",
    "\n",
    "import numpy as np\n",
    "import pandas as pd\n",
    "import sys\n",
    "sys.path.append(\"../\")\n",
    "import torch\n",
    "import torch.nn as nn\n",
    "import torch.optim\n",
    "import torch.utils.data\n",
    "import torchvision.transforms as transforms\n",
    "from PIL import Image\n",
    "from src.train_pm import Dataset, double_conv, LeUNet, StandardNet, EnsembleNet, EPAPLN\n",
    "import cv2\n",
    "%matplotlib inline\n",
    "import matplotlib.pyplot as plt\n",
    "from src.preprocessing.trans_func import *\n",
    "import torchvision.models as models"
   ]
  },
  {
   "cell_type": "code",
   "execution_count": 20,
   "metadata": {},
   "outputs": [],
   "source": [
    "data = pd.read_csv('../all_data.csv')\n",
    "data_train = data.sample(frac=0.8,random_state=17)\n",
    "data_val = data.loc[~data.index.isin(data_train.index)]\n",
    "files_train = list(data_train['filename'])\n",
    "files_val = list(data_val['filename'])\n",
    "ppm_train = list(data_train['ppm'])\n",
    "ppm_val = list(data_val['ppm'])\n",
    "ids_train = [i for i in range(len(files_train))]\n",
    "ids_val = [i for i in range(len(files_val))]\n",
    "# data = None\n",
    "# data_train = None\n",
    "# data_val = None\n",
    "files = list(data['filename'])\n",
    "ppm = list(data['ppm'])\n",
    "ids = [i for i in range(len(files))]"
   ]
  },
  {
   "cell_type": "code",
   "execution_count": 33,
   "metadata": {},
   "outputs": [
    {
     "data": {
      "text/plain": [
       "<All keys matched successfully>"
      ]
     },
     "execution_count": 33,
     "metadata": {},
     "output_type": "execute_result"
    }
   ],
   "source": [
    "model = LeUNet()\n",
    "model = torch.nn.DataParallel(model).cuda()\n",
    "model.load_state_dict(torch.load(\"../src/model_pm_china.pth\"),strict=False) # on GPU"
   ]
  },
  {
   "cell_type": "code",
   "execution_count": 4,
   "metadata": {},
   "outputs": [],
   "source": [
    "# model = StandardNet('resnet50').cuda()\n",
    "# model.load_state_dict(torch.load(\"../src/resnet50_pm_all.pth\"),strict=False)"
   ]
  },
  {
   "cell_type": "code",
   "execution_count": 5,
   "metadata": {},
   "outputs": [
    {
     "data": {
      "text/plain": [
       "<All keys matched successfully>"
      ]
     },
     "execution_count": 5,
     "metadata": {},
     "output_type": "execute_result"
    }
   ],
   "source": [
    "# model = StandardNet('vgg16').cuda()\n",
    "# model.load_state_dict(torch.load(\"../src/vgg16_pm_all.pth\"),strict=False)"
   ]
  },
  {
   "cell_type": "code",
   "execution_count": 6,
   "metadata": {},
   "outputs": [],
   "source": [
    "# model = EPAPLN().cuda()\n",
    "# model.load_state_dict(torch.load(\"../src/epapln_pm_all.pth\"),strict=False)"
   ]
  },
  {
   "cell_type": "code",
   "execution_count": 7,
   "metadata": {},
   "outputs": [],
   "source": [
    "# model = EnsembleNet().cuda()\n",
    "# model.load_state_dict(torch.load(\"../src/ensemble_pm_all.pth\"),strict=False)"
   ]
  },
  {
   "cell_type": "code",
   "execution_count": 34,
   "metadata": {},
   "outputs": [],
   "source": [
    "dataset = Dataset(ids, files, ppm, transforms.Compose([transforms.Resize((256,256)),transforms.ToTensor(),transforms.Normalize(mean=[0.5231, 0.5180, 0.5115],std=[0.2014, 0.2018, 0.2100]),])) # normalize\n",
    "loader = torch.utils.data.DataLoader(dataset, batch_size=32, shuffle=False, num_workers=12)"
   ]
  },
  {
   "cell_type": "code",
   "execution_count": 35,
   "metadata": {},
   "outputs": [],
   "source": [
    "model = model.eval()"
   ]
  },
  {
   "cell_type": "code",
   "execution_count": 36,
   "metadata": {},
   "outputs": [],
   "source": [
    "actual = []\n",
    "preds = []\n",
    "for x, y in loader:\n",
    "    y = y.float()\n",
    "    x = x.cuda(non_blocking=True)\n",
    "    y = y.cuda(non_blocking=True)\n",
    "\n",
    "    x_var = torch.autograd.Variable(x)\n",
    "    y_var = torch.autograd.Variable(y)\n",
    "\n",
    "    yhat = model(x_var).squeeze()\n",
    "    actual += [y_var.cpu().detach().numpy()]\n",
    "    preds += [yhat.cpu().detach().numpy()]"
   ]
  },
  {
   "cell_type": "code",
   "execution_count": 37,
   "metadata": {},
   "outputs": [],
   "source": [
    "actual = np.concatenate(actual)"
   ]
  },
  {
   "cell_type": "code",
   "execution_count": 38,
   "metadata": {},
   "outputs": [],
   "source": [
    "preds = np.concatenate(preds)"
   ]
  },
  {
   "cell_type": "code",
   "execution_count": 39,
   "metadata": {},
   "outputs": [
    {
     "data": {
      "image/png": "[encoded data removed]",
      "text/plain": [
       "<Figure size 432x288 with 1 Axes>"
      ]
     },
     "metadata": {
      "needs_background": "light"
     },
     "output_type": "display_data"
    },
    {
     "name": "stdout",
     "output_type": "stream",
     "text": [
      "-83.483\n",
      "153.47891\n"
     ]
    }
   ],
   "source": [
    "err = np.array(preds)-np.array(actual)\n",
    "err_val = err[np.array(ids_val)]\n",
    "# err_val = err\n",
    "plt.hist(err_val, bins=20,range=(-100,100))\n",
    "plt.title(\"Error b/w prediction and actual PM-2.5 \\nfor test set (without outliers)\")\n",
    "plt.xlabel('err')\n",
    "plt.ylabel('# examples')\n",
    "plt.savefig('err_full.png')\n",
    "plt.show()\n",
    "print(np.mean(err_val))\n",
    "print(np.std(err_val))"
   ]
  },
  {
   "cell_type": "code",
   "execution_count": 40,
   "metadata": {},
   "outputs": [
    {
     "data": {
      "image/png": "[encoded data removed]",
      "text/plain": [
       "<Figure size 432x288 with 1 Axes>"
      ]
     },
     "metadata": {
      "needs_background": "light"
     },
     "output_type": "display_data"
    },
    {
     "name": "stdout",
     "output_type": "stream",
     "text": [
      "124.29471\n",
      "122.78441\n"
     ]
    }
   ],
   "source": [
    "plt.hist(np.abs(err_val), bins=20)\n",
    "plt.title(\"Absolute error b/w prediction and actual PM-2.5 \\nfor test set (with outliers)\")\n",
    "plt.xlabel('err')\n",
    "plt.ylabel('# examples')\n",
    "plt.savefig('err_val.png')\n",
    "plt.show()\n",
    "print(np.mean(np.abs(err_val)))\n",
    "print(np.std(np.abs(err_val)))"
   ]
  },
  {
   "cell_type": "code",
   "execution_count": 41,
   "metadata": {},
   "outputs": [
    {
     "name": "stdout",
     "output_type": "stream",
     "text": [
      "450\n",
      "420\n"
     ]
    }
   ],
   "source": [
    "id_china = []\n",
    "id_delhi = []\n",
    "for index, row in data_val.iterrows():\n",
    "    filename = row['filename']\n",
    "    if filename.startswith('Shanghai1') or filename.startswith('Shanghai2') or filename.startswith('Shanghai3') or filename.startswith('Beijing'):\n",
    "        id_china.append(index)\n",
    "    else:\n",
    "        id_delhi.append(index)\n",
    "\n",
    "print(len(id_china))\n",
    "print(len(id_delhi))"
   ]
  },
  {
   "cell_type": "code",
   "execution_count": 42,
   "metadata": {},
   "outputs": [
    {
     "data": {
      "image/png": "[encoded data removed]",
      "text/plain": [
       "<Figure size 432x288 with 1 Axes>"
      ]
     },
     "metadata": {
      "needs_background": "light"
     },
     "output_type": "display_data"
    },
    {
     "name": "stdout",
     "output_type": "stream",
     "text": [
      "5.1605663\n",
      "6.186262\n"
     ]
    }
   ],
   "source": [
    "err_china = np.abs(err[np.array(id_china)]) #err_val,err?\n",
    "err_delhi = np.abs(err[np.array(id_delhi)])\n",
    "plt.hist(err_china, bins=20)\n",
    "plt.title(\"Absolute error b/w prediction and actual PM-2.5 \\nfor single-scene test set (with outliers)\")\n",
    "plt.xlabel('err')\n",
    "plt.ylabel('# examples')\n",
    "plt.savefig('err_china.png')\n",
    "plt.show()\n",
    "print(np.mean(err_china))\n",
    "print(np.std(err_china))"
   ]
  },
  {
   "cell_type": "code",
   "execution_count": 43,
   "metadata": {},
   "outputs": [
    {
     "data": {
      "image/png": "[encoded data removed]",
      "text/plain": [
       "<Figure size 432x288 with 1 Axes>"
      ]
     },
     "metadata": {
      "needs_background": "light"
     },
     "output_type": "display_data"
    },
    {
     "name": "stdout",
     "output_type": "stream",
     "text": [
      "143.04773\n",
      "120.64816\n"
     ]
    }
   ],
   "source": [
    "plt.hist(err_delhi, bins=8)\n",
    "plt.title(\"Absolute error b/w prediction and actual PM-2.5 \\nfor multiple-scene delhi test set (with outliers)\")\n",
    "plt.xlabel('err')\n",
    "plt.ylabel('# examples')\n",
    "plt.savefig('err_delhi.png')\n",
    "plt.show()\n",
    "print(np.mean(err_delhi))\n",
    "print(np.std(err_delhi))"
   ]
  },
  {
   "cell_type": "code",
   "execution_count": 44,
   "metadata": {},
   "outputs": [
    {
     "data": {
      "image/png": "[encoded data removed]",
      "text/plain": [
       "<Figure size 432x288 with 1 Axes>"
      ]
     },
     "metadata": {
      "needs_background": "light"
     },
     "output_type": "display_data"
    },
    {
     "name": "stdout",
     "output_type": "stream",
     "text": [
      "-119.26564\n",
      "144.20242\n"
     ]
    }
   ],
   "source": [
    "plt.hist(err[np.array(id_delhi)], bins=40)\n",
    "plt.title(\"Absolute error b/w prediction and actual PM-2.5 \\nfor multiple-scene delhi test set (with outliers)\")\n",
    "plt.xlabel('err')\n",
    "plt.ylabel('# examples')\n",
    "plt.savefig('err_delhi.png')\n",
    "plt.show()\n",
    "print(np.mean(err[np.array(id_delhi)]))\n",
    "print(np.std(err[np.array(id_delhi)]))"
   ]
  },
  {
   "cell_type": "code",
   "execution_count": null,
   "metadata": {},
   "outputs": [],
   "source": []
  }
 ],
 "metadata": {
  "kernelspec": {
   "display_name": "Python 3",
   "language": "python",
   "name": "python3"
  },
  "language_info": {
   "codemirror_mode": {
    "name": "ipython",
    "version": 3
   },
   "file_extension": ".py",
   "mimetype": "text/x-python",
   "name": "python",
   "nbconvert_exporter": "python",
   "pygments_lexer": "ipython3",
   "version": "3.8.11"
  }
 },
 "nbformat": 4,
 "nbformat_minor": 4
}
