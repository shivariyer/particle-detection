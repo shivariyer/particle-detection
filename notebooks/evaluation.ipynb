{
 "cells": [
  {
   "cell_type": "code",
   "execution_count": 1,
   "metadata": {},
   "outputs": [],
   "source": [
    "%load_ext autoreload\n",
    "%autoreload 2\n",
    "\n",
    "import numpy as np\n",
    "import pandas as pd\n",
    "import sys\n",
    "sys.path.append(\"../\")\n",
    "import torch\n",
    "import torch.nn as nn\n",
    "import torch.optim\n",
    "import torch.utils.data\n",
    "import torchvision.transforms as transforms\n",
    "from PIL import Image\n",
    "from src.train_pm import Dataset, double_conv, LeUNet, StandardNet, EnsembleNet, EPAPLN, ResNetUNet, EnsembleLeUNet\n",
    "import cv2\n",
    "%matplotlib inline\n",
    "import matplotlib.pyplot as plt\n",
    "from src.preprocessing.trans_func import *\n",
    "import torchvision.models as models"
   ]
  },
  {
   "cell_type": "code",
   "execution_count": 2,
   "metadata": {},
   "outputs": [],
   "source": [
    "data = pd.read_csv('../test_data.csv')\n",
    "# data_train = data.sample(frac=0.8,random_state=17)\n",
    "# data_val = data.loc[~data.index.isin(data_train.index)]\n",
    "# files_train = list(data_train['filename'])\n",
    "# files_val = list(data_val['filename'])\n",
    "# ppm_train = list(data_train['ppm'])\n",
    "# ppm_val = list(data_val['ppm'])\n",
    "# ids_train = [i for i in range(len(files_train))]\n",
    "# ids_val = [i for i in range(len(files_val))]\n",
    "# data = None\n",
    "# data_train = None\n",
    "# data_val = None\n",
    "files = list(data['filename'])\n",
    "ppm = list(data['ppm'])\n",
    "ids = [i for i in range(len(files))]"
   ]
  },
  {
   "cell_type": "code",
   "execution_count": 206,
   "metadata": {},
   "outputs": [
    {
     "data": {
      "text/plain": [
       "<All keys matched successfully>"
      ]
     },
     "execution_count": 206,
     "metadata": {},
     "output_type": "execute_result"
    }
   ],
   "source": [
    "# model = LeUNet()\n",
    "# model = torch.nn.DataParallel(model).cuda()\n",
    "# model.load_state_dict(torch.load(\"../src/model_pm_train.pth\"),strict=False) # on GPU"
   ]
  },
  {
   "cell_type": "code",
   "execution_count": 4,
   "metadata": {},
   "outputs": [],
   "source": [
    "# model = ResNetUNet()\n",
    "# model = torch.nn.DataParallel(model).cuda()\n",
    "# model.load_state_dict(torch.load(\"../src/resnetunet_pm_train.pth\"),strict=False) # on GPU"
   ]
  },
  {
   "cell_type": "code",
   "execution_count": 242,
   "metadata": {},
   "outputs": [
    {
     "data": {
      "text/plain": [
       "<All keys matched successfully>"
      ]
     },
     "execution_count": 242,
     "metadata": {},
     "output_type": "execute_result"
    }
   ],
   "source": [
    "# model = StandardNet('resnet50').cuda()\n",
    "# model.load_state_dict(torch.load(\"../src/resnet50_pm_train.pth\"),strict=False)"
   ]
  },
  {
   "cell_type": "code",
   "execution_count": 278,
   "metadata": {},
   "outputs": [
    {
     "data": {
      "text/plain": [
       "<All keys matched successfully>"
      ]
     },
     "execution_count": 278,
     "metadata": {},
     "output_type": "execute_result"
    }
   ],
   "source": [
    "# model = StandardNet('vgg16').cuda()\n",
    "# model.load_state_dict(torch.load(\"../src/vgg16_pm_train.pth\"),strict=False)"
   ]
  },
  {
   "cell_type": "code",
   "execution_count": 134,
   "metadata": {},
   "outputs": [
    {
     "name": "stderr",
     "output_type": "stream",
     "text": [
      "/scratch/ab9738/chest/env_chest/lib/python3.8/site-packages/torchvision/models/inception.py:75: FutureWarning: The default weight initialization of inception_v3 will be changed in future releases of torchvision. If you wish to keep the old behavior (which leads to long initialization times due to scipy/scipy#11299), please set init_weights=True.\n",
      "  warnings.warn('The default weight initialization of inception_v3 will be changed in future releases of '\n"
     ]
    },
    {
     "data": {
      "text/plain": [
       "<All keys matched successfully>"
      ]
     },
     "execution_count": 134,
     "metadata": {},
     "output_type": "execute_result"
    }
   ],
   "source": [
    "# model = StandardNet('inception_v3').cuda()\n",
    "# model.load_state_dict(torch.load(\"../src/inception_pm_train.pth\"),strict=False)"
   ]
  },
  {
   "cell_type": "code",
   "execution_count": 314,
   "metadata": {},
   "outputs": [
    {
     "data": {
      "text/plain": [
       "<All keys matched successfully>"
      ]
     },
     "execution_count": 314,
     "metadata": {},
     "output_type": "execute_result"
    }
   ],
   "source": [
    "model = EPAPLN().cuda()\n",
    "model.load_state_dict(torch.load(\"../src/epapln_pm_train.pth\"),strict=False)"
   ]
  },
  {
   "cell_type": "code",
   "execution_count": 58,
   "metadata": {},
   "outputs": [
    {
     "name": "stderr",
     "output_type": "stream",
     "text": [
      "/scratch/ab9738/chest/env_chest/lib/python3.8/site-packages/torchvision/models/inception.py:75: FutureWarning: The default weight initialization of inception_v3 will be changed in future releases of torchvision. If you wish to keep the old behavior (which leads to long initialization times due to scipy/scipy#11299), please set init_weights=True.\n",
      "  warnings.warn('The default weight initialization of inception_v3 will be changed in future releases of '\n"
     ]
    },
    {
     "data": {
      "text/plain": [
       "<All keys matched successfully>"
      ]
     },
     "execution_count": 58,
     "metadata": {},
     "output_type": "execute_result"
    }
   ],
   "source": [
    "# model = EnsembleNet().cuda()\n",
    "# model.load_state_dict(torch.load(\"../src/ensemble_pm_train.pth\"),strict=False)"
   ]
  },
  {
   "cell_type": "code",
   "execution_count": 170,
   "metadata": {},
   "outputs": [
    {
     "name": "stderr",
     "output_type": "stream",
     "text": [
      "/scratch/ab9738/chest/env_chest/lib/python3.8/site-packages/torchvision/models/inception.py:75: FutureWarning: The default weight initialization of inception_v3 will be changed in future releases of torchvision. If you wish to keep the old behavior (which leads to long initialization times due to scipy/scipy#11299), please set init_weights=True.\n",
      "  warnings.warn('The default weight initialization of inception_v3 will be changed in future releases of '\n"
     ]
    },
    {
     "data": {
      "text/plain": [
       "<All keys matched successfully>"
      ]
     },
     "execution_count": 170,
     "metadata": {},
     "output_type": "execute_result"
    }
   ],
   "source": [
    "# model = EnsembleLeUNet().cuda()\n",
    "# model.load_state_dict(torch.load(\"../src/ensembleleunet_pm_train.pth\"),strict=False)"
   ]
  },
  {
   "cell_type": "code",
   "execution_count": 98,
   "metadata": {},
   "outputs": [],
   "source": [
    "dataset = Dataset(ids, files, ppm, transforms.Compose([transforms.Resize((256,256)),transforms.ToTensor(),transforms.Normalize(mean=[0.5231, 0.5180, 0.5115],std=[0.2014, 0.2018, 0.2100]),])) # normalize\n",
    "loader = torch.utils.data.DataLoader(dataset, batch_size=32, shuffle=False, num_workers=12)"
   ]
  },
  {
   "cell_type": "code",
   "execution_count": 315,
   "metadata": {},
   "outputs": [],
   "source": [
    "model = model.eval()"
   ]
  },
  {
   "cell_type": "code",
   "execution_count": 316,
   "metadata": {},
   "outputs": [],
   "source": [
    "actual = []\n",
    "preds = []\n",
    "for x, y in loader:\n",
    "    y = y.float()\n",
    "    x = x.cuda(non_blocking=True)\n",
    "    y = y.cuda(non_blocking=True)\n",
    "\n",
    "    x_var = torch.autograd.Variable(x)\n",
    "    y_var = torch.autograd.Variable(y)\n",
    "\n",
    "    yhat = model(x_var).squeeze()\n",
    "    actual += [y_var.cpu().detach().numpy()]\n",
    "    preds += [yhat.cpu().detach().numpy()]"
   ]
  },
  {
   "cell_type": "code",
   "execution_count": 317,
   "metadata": {},
   "outputs": [],
   "source": [
    "actual = np.concatenate(actual)"
   ]
  },
  {
   "cell_type": "code",
   "execution_count": 318,
   "metadata": {},
   "outputs": [],
   "source": [
    "preds = np.concatenate(preds)"
   ]
  },
  {
   "cell_type": "code",
   "execution_count": 319,
   "metadata": {},
   "outputs": [
    {
     "data": {
      "image/png": "[encoded data removed]",
      "text/plain": [
       "<Figure size 432x288 with 1 Axes>"
      ]
     },
     "metadata": {
      "needs_background": "light"
     },
     "output_type": "display_data"
    },
    {
     "name": "stdout",
     "output_type": "stream",
     "text": [
      "-10.545784\n",
      "45.89123\n"
     ]
    }
   ],
   "source": [
    "err_test = np.array(preds)-np.array(actual)\n",
    "plt.hist(err_test, bins=20,range=(-300,300))\n",
    "plt.title(\"Error b/w prediction and actual PM-2.5 \\nfor test set (without outliers)\")\n",
    "plt.xlabel('err')\n",
    "plt.ylabel('# examples')\n",
    "plt.savefig('err_full.png')\n",
    "plt.show()\n",
    "print(np.mean(err_test))\n",
    "print(np.std(err_test))"
   ]
  },
  {
   "cell_type": "code",
   "execution_count": 320,
   "metadata": {},
   "outputs": [
    {
     "data": {
      "image/png": "[encoded data removed]",
      "text/plain": [
       "<Figure size 432x288 with 1 Axes>"
      ]
     },
     "metadata": {
      "needs_background": "light"
     },
     "output_type": "display_data"
    },
    {
     "name": "stdout",
     "output_type": "stream",
     "text": [
      "29.432114\n",
      "36.75553\n"
     ]
    }
   ],
   "source": [
    "plt.hist(np.abs(err_test), bins=20)\n",
    "plt.title(\"Absolute error b/w prediction and actual PM-2.5 \\nfor test set (with outliers)\")\n",
    "plt.xlabel('err')\n",
    "plt.ylabel('# examples')\n",
    "plt.savefig('err_val.png')\n",
    "plt.show()\n",
    "print(np.mean(np.abs(err_test)))\n",
    "print(np.std(np.abs(err_test)))"
   ]
  },
  {
   "cell_type": "code",
   "execution_count": 321,
   "metadata": {},
   "outputs": [],
   "source": [
    "# plt.hist(np.abs(err_train), bins=20)\n",
    "# plt.title(\"Absolute error b/w prediction and actual PM-2.5 \\nfor test set (with outliers)\")\n",
    "# plt.xlabel('err')\n",
    "# plt.ylabel('# examples')\n",
    "# plt.savefig('err_val.png')\n",
    "# plt.show()\n",
    "# print(np.mean(np.abs(err_train)))\n",
    "# print(np.std(np.abs(err_train)))"
   ]
  },
  {
   "cell_type": "code",
   "execution_count": 322,
   "metadata": {},
   "outputs": [
    {
     "name": "stdout",
     "output_type": "stream",
     "text": [
      "446\n",
      "267\n"
     ]
    }
   ],
   "source": [
    "id_china = []\n",
    "id_delhi = []\n",
    "for index, row in data.iterrows():\n",
    "    filename = row['filename']\n",
    "    if filename.startswith('Shanghai1') or filename.startswith('Shanghai2') or filename.startswith('Shanghai3') or filename.startswith('Beijing'):\n",
    "        id_china.append(index)\n",
    "    else:\n",
    "        id_delhi.append(index)\n",
    "\n",
    "print(len(id_china))\n",
    "print(len(id_delhi))"
   ]
  },
  {
   "cell_type": "code",
   "execution_count": 323,
   "metadata": {},
   "outputs": [
    {
     "data": {
      "image/png": "[encoded data removed]",
      "text/plain": [
       "<Figure size 432x288 with 1 Axes>"
      ]
     },
     "metadata": {
      "needs_background": "light"
     },
     "output_type": "display_data"
    },
    {
     "name": "stdout",
     "output_type": "stream",
     "text": [
      "14.572981\n",
      "18.499966\n"
     ]
    }
   ],
   "source": [
    "err_china = np.abs(err_test[np.array(id_china)]) #err_val,err?\n",
    "err_delhi = np.abs(err_test[np.array(id_delhi)])\n",
    "plt.hist(err_china, bins=20)\n",
    "plt.title(\"Absolute error b/w prediction and actual PM-2.5 \\nfor single-scene test set (with outliers)\")\n",
    "plt.xlabel('err')\n",
    "plt.ylabel('# examples')\n",
    "plt.savefig('err_china.png')\n",
    "plt.show()\n",
    "print(np.mean(err_china))\n",
    "print(np.std(err_china))"
   ]
  },
  {
   "cell_type": "code",
   "execution_count": 324,
   "metadata": {},
   "outputs": [
    {
     "data": {
      "image/png": "[encoded data removed]",
      "text/plain": [
       "<Figure size 432x288 with 1 Axes>"
      ]
     },
     "metadata": {
      "needs_background": "light"
     },
     "output_type": "display_data"
    },
    {
     "name": "stdout",
     "output_type": "stream",
     "text": [
      "54.252983\n",
      "45.288578\n"
     ]
    }
   ],
   "source": [
    "plt.hist(err_delhi, bins=20)\n",
    "plt.title(\"Absolute error b/w prediction and actual PM-2.5 \\nfor multiple-scene delhi test set (with outliers)\")\n",
    "plt.xlabel('err')\n",
    "plt.ylabel('# examples')\n",
    "plt.savefig('err_delhi.png')\n",
    "plt.show()\n",
    "print(np.mean(err_delhi))\n",
    "print(np.std(err_delhi))"
   ]
  },
  {
   "cell_type": "code",
   "execution_count": 325,
   "metadata": {},
   "outputs": [
    {
     "data": {
      "image/png": "[encoded data removed]",
      "text/plain": [
       "<Figure size 432x288 with 1 Axes>"
      ]
     },
     "metadata": {
      "needs_background": "light"
     },
     "output_type": "display_data"
    },
    {
     "name": "stdout",
     "output_type": "stream",
     "text": [
      "-28.737833\n",
      "64.56454\n"
     ]
    }
   ],
   "source": [
    "plt.hist(err_test[np.array(id_delhi)], bins=40)\n",
    "plt.title(\"Error b/w prediction and actual PM-2.5 \\nfor multiple-scene delhi test set (with outliers)\")\n",
    "plt.xlabel('err')\n",
    "plt.ylabel('# examples')\n",
    "plt.savefig('err_delhi.png')\n",
    "plt.show()\n",
    "print(np.mean(err_test[np.array(id_delhi)]))\n",
    "print(np.std(err_test[np.array(id_delhi)]))"
   ]
  },
  {
   "cell_type": "code",
   "execution_count": 326,
   "metadata": {},
   "outputs": [],
   "source": [
    "actual_delhi = actual[np.array(id_delhi)]"
   ]
  },
  {
   "cell_type": "code",
   "execution_count": 327,
   "metadata": {},
   "outputs": [],
   "source": [
    "preds_delhi = preds[np.array(id_delhi)]"
   ]
  },
  {
   "cell_type": "code",
   "execution_count": 328,
   "metadata": {},
   "outputs": [
    {
     "name": "stdout",
     "output_type": "stream",
     "text": [
      "91 267 0.3408239700374532\n"
     ]
    }
   ],
   "source": [
    "correct_p = 0\n",
    "for i in range(len(id_delhi)):\n",
    "    if((preds_delhi[i]<actual_delhi[i]+25) and (preds_delhi[i]>actual_delhi[i]-25)):\n",
    "        correct_p+=1\n",
    "print(correct_p, len(id_delhi), correct_p*1.0/len(id_delhi))"
   ]
  },
  {
   "cell_type": "code",
   "execution_count": 329,
   "metadata": {},
   "outputs": [
    {
     "name": "stdout",
     "output_type": "stream",
     "text": [
      "160 267 0.599250936329588\n"
     ]
    }
   ],
   "source": [
    "correct_p = 0\n",
    "for i in range(len(id_delhi)):\n",
    "    if((preds_delhi[i]<actual_delhi[i]+50) and (preds_delhi[i]>actual_delhi[i]-50)):\n",
    "        correct_p+=1\n",
    "print(correct_p, len(id_delhi), correct_p*1.0/len(id_delhi))"
   ]
  },
  {
   "cell_type": "markdown",
   "metadata": {},
   "source": [
    "## Pollution Map"
   ]
  },
  {
   "cell_type": "code",
   "execution_count": 330,
   "metadata": {},
   "outputs": [],
   "source": [
    "location_df = pd.read_csv(\"/scratch/ab9738/pollution_img/govdata/locations.csv\")\n",
    "location_df = location_df.drop([\"source\"], axis=1)"
   ]
  },
  {
   "cell_type": "code",
   "execution_count": 331,
   "metadata": {},
   "outputs": [],
   "source": [
    "location_df['Lat-Lon'] = location_df['lat'].apply(str) +','+ location_df['lon'].apply(str)"
   ]
  },
  {
   "cell_type": "code",
   "execution_count": 332,
   "metadata": {},
   "outputs": [],
   "source": [
    "location_df = location_df.drop(['lat', 'lon'], axis=1)"
   ]
  },
  {
   "cell_type": "code",
   "execution_count": 333,
   "metadata": {},
   "outputs": [],
   "source": [
    "# Adding UP Sensor Locations\n",
    "location_df.loc[len(location_df)] = ['SanjayNagar_UPPCP', '28.685382,77.453839']\n",
    "location_df.loc[len(location_df)] = ['Indirapuram_UPPCP', '28.646233,77.358075']\n",
    "location_df.loc[len(location_df)] = ['Vasundhara_UPPCP', '28.6603346,77.3572563']\n",
    "location_df.loc[len(location_df)] = ['Loni_UPPCP', '28.757294,77.278792']\n",
    "location_df.loc[len(location_df)] = ['NoidaSector62_IMD', '28.6245479,77.3577104']\n",
    "location_df.loc[len(location_df)] = ['NoidaSector116_UPPCP', '28.56912141,77.3939069']\n",
    "location_df.loc[len(location_df)] = ['KnowledgeParkV_UPPCP', '28.55856132,77.45445483']\n",
    "location_df.loc[len(location_df)] = ['KnowledgeParkIII_UPPCP', '28.47250249,77.48179193']\n",
    "location_df.loc[len(location_df)] = ['NoidaSector1_UPPCP', '28.58966084,77.30998866']\n",
    "location_df.loc[len(location_df)] = ['NoidaSector125_UPPCP', '28.54492244,77.32281108']"
   ]
  },
  {
   "cell_type": "code",
   "execution_count": 334,
   "metadata": {},
   "outputs": [
    {
     "data": {
      "text/html": [
       "<div>\n",
       "<style scoped>\n",
       "    .dataframe tbody tr th:only-of-type {\n",
       "        vertical-align: middle;\n",
       "    }\n",
       "\n",
       "    .dataframe tbody tr th {\n",
       "        vertical-align: top;\n",
       "    }\n",
       "\n",
       "    .dataframe thead th {\n",
       "        text-align: right;\n",
       "    }\n",
       "</style>\n",
       "<table border=\"1\" class=\"dataframe\">\n",
       "  <thead>\n",
       "    <tr style=\"text-align: right;\">\n",
       "      <th></th>\n",
       "      <th>id</th>\n",
       "      <th>Lat-Lon</th>\n",
       "    </tr>\n",
       "  </thead>\n",
       "  <tbody>\n",
       "    <tr>\n",
       "      <th>0</th>\n",
       "      <td>AshokVihar_DPCC</td>\n",
       "      <td>28.695381,77.181665</td>\n",
       "    </tr>\n",
       "    <tr>\n",
       "      <th>1</th>\n",
       "      <td>AyaNagar_IMD</td>\n",
       "      <td>28.4706914,77.10993640000001</td>\n",
       "    </tr>\n",
       "    <tr>\n",
       "      <th>2</th>\n",
       "      <td>BurariCrossing_IMD</td>\n",
       "      <td>28.725650399999996,77.20115729999999</td>\n",
       "    </tr>\n",
       "    <tr>\n",
       "      <th>3</th>\n",
       "      <td>CRRIMathuraRoad_IMD</td>\n",
       "      <td>28.5512005,77.27357370000001</td>\n",
       "    </tr>\n",
       "    <tr>\n",
       "      <th>4</th>\n",
       "      <td>DTU_CPCB</td>\n",
       "      <td>28.7500499,77.1112615</td>\n",
       "    </tr>\n",
       "    <tr>\n",
       "      <th>5</th>\n",
       "      <td>DwarkaSector8_DPCC</td>\n",
       "      <td>28.5710274,77.07190059999999</td>\n",
       "    </tr>\n",
       "    <tr>\n",
       "      <th>6</th>\n",
       "      <td>IGIAirport_IMD</td>\n",
       "      <td>28.562776300000003,77.1180053</td>\n",
       "    </tr>\n",
       "    <tr>\n",
       "      <th>7</th>\n",
       "      <td>IHBAS_CPCB</td>\n",
       "      <td>28.681173600000005,77.30252340000001</td>\n",
       "    </tr>\n",
       "    <tr>\n",
       "      <th>8</th>\n",
       "      <td>ITO_CPCB</td>\n",
       "      <td>28.631694500000002,77.2494387</td>\n",
       "    </tr>\n",
       "    <tr>\n",
       "      <th>9</th>\n",
       "      <td>Jahangirpuri_DPCC</td>\n",
       "      <td>28.73282,77.170633</td>\n",
       "    </tr>\n",
       "    <tr>\n",
       "      <th>10</th>\n",
       "      <td>JNS_DPCC</td>\n",
       "      <td>28.58028,77.233829</td>\n",
       "    </tr>\n",
       "    <tr>\n",
       "      <th>11</th>\n",
       "      <td>LodhiRoad_IMD</td>\n",
       "      <td>28.5918245,77.2273074</td>\n",
       "    </tr>\n",
       "    <tr>\n",
       "      <th>12</th>\n",
       "      <td>MandirMarg_DPCC</td>\n",
       "      <td>28.636428999999996,77.20106700000001</td>\n",
       "    </tr>\n",
       "    <tr>\n",
       "      <th>13</th>\n",
       "      <td>MDCNS_DPCC</td>\n",
       "      <td>28.611280999999998,77.23773800000001</td>\n",
       "    </tr>\n",
       "    <tr>\n",
       "      <th>14</th>\n",
       "      <td>Mundaka_DPCC</td>\n",
       "      <td>28.684678,77.076574</td>\n",
       "    </tr>\n",
       "    <tr>\n",
       "      <th>15</th>\n",
       "      <td>NSIT_CPCB</td>\n",
       "      <td>28.609090000000002,77.03254129999999</td>\n",
       "    </tr>\n",
       "    <tr>\n",
       "      <th>16</th>\n",
       "      <td>OkhlaPhase2_DPCC</td>\n",
       "      <td>28.530784999999998,77.27125500000001</td>\n",
       "    </tr>\n",
       "    <tr>\n",
       "      <th>17</th>\n",
       "      <td>PunjabiBagh_DPCC</td>\n",
       "      <td>28.674045,77.131023</td>\n",
       "    </tr>\n",
       "    <tr>\n",
       "      <th>18</th>\n",
       "      <td>Pusa_DPCC</td>\n",
       "      <td>28.639645,77.146262</td>\n",
       "    </tr>\n",
       "    <tr>\n",
       "      <th>19</th>\n",
       "      <td>Pusa_IMD</td>\n",
       "      <td>28.639645,77.146263</td>\n",
       "    </tr>\n",
       "    <tr>\n",
       "      <th>20</th>\n",
       "      <td>RKPuram_DPCC</td>\n",
       "      <td>28.563261999999998,77.186937</td>\n",
       "    </tr>\n",
       "    <tr>\n",
       "      <th>21</th>\n",
       "      <td>Shadipur_CPCB</td>\n",
       "      <td>28.651478100000002,77.1473105</td>\n",
       "    </tr>\n",
       "    <tr>\n",
       "      <th>22</th>\n",
       "      <td>Sirifort_CPCB</td>\n",
       "      <td>28.5504249,77.2159377</td>\n",
       "    </tr>\n",
       "    <tr>\n",
       "      <th>23</th>\n",
       "      <td>SriAurobindoMarg_DPCC</td>\n",
       "      <td>28.531346000000003,77.190156</td>\n",
       "    </tr>\n",
       "    <tr>\n",
       "      <th>24</th>\n",
       "      <td>VivekVihar_DPCC</td>\n",
       "      <td>28.672341999999997,77.31526</td>\n",
       "    </tr>\n",
       "    <tr>\n",
       "      <th>25</th>\n",
       "      <td>AnandVihar_DPCC</td>\n",
       "      <td>28.646835,77.31603199999999</td>\n",
       "    </tr>\n",
       "    <tr>\n",
       "      <th>26</th>\n",
       "      <td>DKSSR_DPCC</td>\n",
       "      <td>28.498571000000002,77.26484</td>\n",
       "    </tr>\n",
       "    <tr>\n",
       "      <th>27</th>\n",
       "      <td>NehruNagar_DPCC</td>\n",
       "      <td>28.567890000000002,77.25051500000001</td>\n",
       "    </tr>\n",
       "    <tr>\n",
       "      <th>28</th>\n",
       "      <td>Patparganj_DPCC</td>\n",
       "      <td>28.623748,77.287205</td>\n",
       "    </tr>\n",
       "    <tr>\n",
       "      <th>29</th>\n",
       "      <td>Rohini_DPCC</td>\n",
       "      <td>28.732528000000002,77.11992</td>\n",
       "    </tr>\n",
       "    <tr>\n",
       "      <th>30</th>\n",
       "      <td>SoniaVihar_DPCC</td>\n",
       "      <td>28.710508,77.24948499999999</td>\n",
       "    </tr>\n",
       "    <tr>\n",
       "      <th>31</th>\n",
       "      <td>Wazirpur_DPCC</td>\n",
       "      <td>28.699793,77.165453</td>\n",
       "    </tr>\n",
       "    <tr>\n",
       "      <th>32</th>\n",
       "      <td>SanjayNagar_UPPCP</td>\n",
       "      <td>28.685382,77.453839</td>\n",
       "    </tr>\n",
       "    <tr>\n",
       "      <th>33</th>\n",
       "      <td>Indirapuram_UPPCP</td>\n",
       "      <td>28.646233,77.358075</td>\n",
       "    </tr>\n",
       "    <tr>\n",
       "      <th>34</th>\n",
       "      <td>Vasundhara_UPPCP</td>\n",
       "      <td>28.6603346,77.3572563</td>\n",
       "    </tr>\n",
       "    <tr>\n",
       "      <th>35</th>\n",
       "      <td>Loni_UPPCP</td>\n",
       "      <td>28.757294,77.278792</td>\n",
       "    </tr>\n",
       "    <tr>\n",
       "      <th>36</th>\n",
       "      <td>NoidaSector62_IMD</td>\n",
       "      <td>28.6245479,77.3577104</td>\n",
       "    </tr>\n",
       "    <tr>\n",
       "      <th>37</th>\n",
       "      <td>NoidaSector116_UPPCP</td>\n",
       "      <td>28.56912141,77.3939069</td>\n",
       "    </tr>\n",
       "    <tr>\n",
       "      <th>38</th>\n",
       "      <td>KnowledgeParkV_UPPCP</td>\n",
       "      <td>28.55856132,77.45445483</td>\n",
       "    </tr>\n",
       "    <tr>\n",
       "      <th>39</th>\n",
       "      <td>KnowledgeParkIII_UPPCP</td>\n",
       "      <td>28.47250249,77.48179193</td>\n",
       "    </tr>\n",
       "    <tr>\n",
       "      <th>40</th>\n",
       "      <td>NoidaSector1_UPPCP</td>\n",
       "      <td>28.58966084,77.30998866</td>\n",
       "    </tr>\n",
       "    <tr>\n",
       "      <th>41</th>\n",
       "      <td>NoidaSector125_UPPCP</td>\n",
       "      <td>28.54492244,77.32281108</td>\n",
       "    </tr>\n",
       "  </tbody>\n",
       "</table>\n",
       "</div>"
      ],
      "text/plain": [
       "                        id                               Lat-Lon\n",
       "0          AshokVihar_DPCC                   28.695381,77.181665\n",
       "1             AyaNagar_IMD          28.4706914,77.10993640000001\n",
       "2       BurariCrossing_IMD  28.725650399999996,77.20115729999999\n",
       "3      CRRIMathuraRoad_IMD          28.5512005,77.27357370000001\n",
       "4                 DTU_CPCB                 28.7500499,77.1112615\n",
       "5       DwarkaSector8_DPCC          28.5710274,77.07190059999999\n",
       "6           IGIAirport_IMD         28.562776300000003,77.1180053\n",
       "7               IHBAS_CPCB  28.681173600000005,77.30252340000001\n",
       "8                 ITO_CPCB         28.631694500000002,77.2494387\n",
       "9        Jahangirpuri_DPCC                    28.73282,77.170633\n",
       "10                JNS_DPCC                    28.58028,77.233829\n",
       "11           LodhiRoad_IMD                 28.5918245,77.2273074\n",
       "12         MandirMarg_DPCC  28.636428999999996,77.20106700000001\n",
       "13              MDCNS_DPCC  28.611280999999998,77.23773800000001\n",
       "14            Mundaka_DPCC                   28.684678,77.076574\n",
       "15               NSIT_CPCB  28.609090000000002,77.03254129999999\n",
       "16        OkhlaPhase2_DPCC  28.530784999999998,77.27125500000001\n",
       "17        PunjabiBagh_DPCC                   28.674045,77.131023\n",
       "18               Pusa_DPCC                   28.639645,77.146262\n",
       "19                Pusa_IMD                   28.639645,77.146263\n",
       "20            RKPuram_DPCC          28.563261999999998,77.186937\n",
       "21           Shadipur_CPCB         28.651478100000002,77.1473105\n",
       "22           Sirifort_CPCB                 28.5504249,77.2159377\n",
       "23   SriAurobindoMarg_DPCC          28.531346000000003,77.190156\n",
       "24         VivekVihar_DPCC           28.672341999999997,77.31526\n",
       "25         AnandVihar_DPCC           28.646835,77.31603199999999\n",
       "26              DKSSR_DPCC           28.498571000000002,77.26484\n",
       "27         NehruNagar_DPCC  28.567890000000002,77.25051500000001\n",
       "28         Patparganj_DPCC                   28.623748,77.287205\n",
       "29             Rohini_DPCC           28.732528000000002,77.11992\n",
       "30         SoniaVihar_DPCC           28.710508,77.24948499999999\n",
       "31           Wazirpur_DPCC                   28.699793,77.165453\n",
       "32       SanjayNagar_UPPCP                   28.685382,77.453839\n",
       "33       Indirapuram_UPPCP                   28.646233,77.358075\n",
       "34        Vasundhara_UPPCP                 28.6603346,77.3572563\n",
       "35              Loni_UPPCP                   28.757294,77.278792\n",
       "36       NoidaSector62_IMD                 28.6245479,77.3577104\n",
       "37    NoidaSector116_UPPCP                28.56912141,77.3939069\n",
       "38    KnowledgeParkV_UPPCP               28.55856132,77.45445483\n",
       "39  KnowledgeParkIII_UPPCP               28.47250249,77.48179193\n",
       "40      NoidaSector1_UPPCP               28.58966084,77.30998866\n",
       "41    NoidaSector125_UPPCP               28.54492244,77.32281108"
      ]
     },
     "execution_count": 334,
     "metadata": {},
     "output_type": "execute_result"
    }
   ],
   "source": [
    "location_df"
   ]
  },
  {
   "cell_type": "code",
   "execution_count": 335,
   "metadata": {},
   "outputs": [],
   "source": [
    "df_act_preds = data.loc[id_delhi]"
   ]
  },
  {
   "cell_type": "code",
   "execution_count": 336,
   "metadata": {},
   "outputs": [],
   "source": [
    "df_annot = pd.read_csv('/scratch/ab9738/pollution_img/code/Annotations.csv')"
   ]
  },
  {
   "cell_type": "code",
   "execution_count": 337,
   "metadata": {},
   "outputs": [
    {
     "data": {
      "text/html": [
       "<div>\n",
       "<style scoped>\n",
       "    .dataframe tbody tr th:only-of-type {\n",
       "        vertical-align: middle;\n",
       "    }\n",
       "\n",
       "    .dataframe tbody tr th {\n",
       "        vertical-align: top;\n",
       "    }\n",
       "\n",
       "    .dataframe thead th {\n",
       "        text-align: right;\n",
       "    }\n",
       "</style>\n",
       "<table border=\"1\" class=\"dataframe\">\n",
       "  <thead>\n",
       "    <tr style=\"text-align: right;\">\n",
       "      <th></th>\n",
       "      <th>timestamp</th>\n",
       "      <th>latitude</th>\n",
       "      <th>longitude</th>\n",
       "      <th>filename</th>\n",
       "      <th>closest_dist</th>\n",
       "      <th>closest_monitor</th>\n",
       "      <th>closest_value</th>\n",
       "    </tr>\n",
       "  </thead>\n",
       "  <tbody>\n",
       "    <tr>\n",
       "      <th>0</th>\n",
       "      <td>2022-01-20 19:09:49+05:30</td>\n",
       "      <td>28.552655</td>\n",
       "      <td>77.105907</td>\n",
       "      <td>20220120_190949___28.552655_77.105907___[org].jpg</td>\n",
       "      <td>1.630866</td>\n",
       "      <td>IGIAirport_IMD</td>\n",
       "      <td>189.82</td>\n",
       "    </tr>\n",
       "    <tr>\n",
       "      <th>1</th>\n",
       "      <td>2022-01-20 19:12:19+05:30</td>\n",
       "      <td>28.550738</td>\n",
       "      <td>77.120168</td>\n",
       "      <td>20220120_191219___28.550738_77.120168___[org].jpg</td>\n",
       "      <td>1.350866</td>\n",
       "      <td>IGIAirport_IMD</td>\n",
       "      <td>189.82</td>\n",
       "    </tr>\n",
       "    <tr>\n",
       "      <th>2</th>\n",
       "      <td>2022-01-20 19:13:26+05:30</td>\n",
       "      <td>28.553902</td>\n",
       "      <td>77.123568</td>\n",
       "      <td>20220120_191326___28.553902_77.123568___[org].jpg</td>\n",
       "      <td>1.124098</td>\n",
       "      <td>IGIAirport_IMD</td>\n",
       "      <td>189.82</td>\n",
       "    </tr>\n",
       "    <tr>\n",
       "      <th>3</th>\n",
       "      <td>2022-01-20 19:14:43+05:30</td>\n",
       "      <td>28.557050</td>\n",
       "      <td>77.132781</td>\n",
       "      <td>20220120_191443___28.55705_77.132781___[org].jpg</td>\n",
       "      <td>1.578941</td>\n",
       "      <td>IGIAirport_IMD</td>\n",
       "      <td>189.82</td>\n",
       "    </tr>\n",
       "    <tr>\n",
       "      <th>4</th>\n",
       "      <td>2022-01-20 19:15:28+05:30</td>\n",
       "      <td>28.561069</td>\n",
       "      <td>77.133684</td>\n",
       "      <td>20220120_191528___28.561069_77.133684___[org].jpg</td>\n",
       "      <td>1.545737</td>\n",
       "      <td>IGIAirport_IMD</td>\n",
       "      <td>189.82</td>\n",
       "    </tr>\n",
       "    <tr>\n",
       "      <th>...</th>\n",
       "      <td>...</td>\n",
       "      <td>...</td>\n",
       "      <td>...</td>\n",
       "      <td>...</td>\n",
       "      <td>...</td>\n",
       "      <td>...</td>\n",
       "      <td>...</td>\n",
       "    </tr>\n",
       "    <tr>\n",
       "      <th>377</th>\n",
       "      <td>2022-01-22 18:28:03+05:30</td>\n",
       "      <td>28.472070</td>\n",
       "      <td>77.487583</td>\n",
       "      <td>20220122_182803___28.47207_77.487583___[org].jpg</td>\n",
       "      <td>0.551466</td>\n",
       "      <td>KnowledgeParkIIIGreaterNoida_UPPCB</td>\n",
       "      <td>80.00</td>\n",
       "    </tr>\n",
       "    <tr>\n",
       "      <th>378</th>\n",
       "      <td>2022-01-22 18:28:39+05:30</td>\n",
       "      <td>28.474239</td>\n",
       "      <td>77.485458</td>\n",
       "      <td>20220122_182839___28.474239_77.485458___[org].jpg</td>\n",
       "      <td>0.378174</td>\n",
       "      <td>KnowledgeParkIIIGreaterNoida_UPPCB</td>\n",
       "      <td>80.00</td>\n",
       "    </tr>\n",
       "    <tr>\n",
       "      <th>379</th>\n",
       "      <td>2022-01-22 18:28:47+05:30</td>\n",
       "      <td>28.474239</td>\n",
       "      <td>77.485458</td>\n",
       "      <td>20220122_182847___28.474239_77.485458___[org].jpg</td>\n",
       "      <td>0.378174</td>\n",
       "      <td>KnowledgeParkIIIGreaterNoida_UPPCB</td>\n",
       "      <td>80.00</td>\n",
       "    </tr>\n",
       "    <tr>\n",
       "      <th>380</th>\n",
       "      <td>2022-01-22 18:29:04+05:30</td>\n",
       "      <td>28.475996</td>\n",
       "      <td>77.483764</td>\n",
       "      <td>20220122_182904___28.475996_77.483764___[org].jpg</td>\n",
       "      <td>0.402070</td>\n",
       "      <td>KnowledgeParkIIIGreaterNoida_UPPCB</td>\n",
       "      <td>80.00</td>\n",
       "    </tr>\n",
       "    <tr>\n",
       "      <th>381</th>\n",
       "      <td>2022-01-22 18:29:36+05:30</td>\n",
       "      <td>28.477578</td>\n",
       "      <td>77.482202</td>\n",
       "      <td>20220122_182936___28.477578_77.482202___[org].jpg</td>\n",
       "      <td>0.538762</td>\n",
       "      <td>KnowledgeParkIIIGreaterNoida_UPPCB</td>\n",
       "      <td>80.00</td>\n",
       "    </tr>\n",
       "  </tbody>\n",
       "</table>\n",
       "<p>382 rows × 7 columns</p>\n",
       "</div>"
      ],
      "text/plain": [
       "                     timestamp   latitude  longitude  \\\n",
       "0    2022-01-20 19:09:49+05:30  28.552655  77.105907   \n",
       "1    2022-01-20 19:12:19+05:30  28.550738  77.120168   \n",
       "2    2022-01-20 19:13:26+05:30  28.553902  77.123568   \n",
       "3    2022-01-20 19:14:43+05:30  28.557050  77.132781   \n",
       "4    2022-01-20 19:15:28+05:30  28.561069  77.133684   \n",
       "..                         ...        ...        ...   \n",
       "377  2022-01-22 18:28:03+05:30  28.472070  77.487583   \n",
       "378  2022-01-22 18:28:39+05:30  28.474239  77.485458   \n",
       "379  2022-01-22 18:28:47+05:30  28.474239  77.485458   \n",
       "380  2022-01-22 18:29:04+05:30  28.475996  77.483764   \n",
       "381  2022-01-22 18:29:36+05:30  28.477578  77.482202   \n",
       "\n",
       "                                              filename  closest_dist  \\\n",
       "0    20220120_190949___28.552655_77.105907___[org].jpg      1.630866   \n",
       "1    20220120_191219___28.550738_77.120168___[org].jpg      1.350866   \n",
       "2    20220120_191326___28.553902_77.123568___[org].jpg      1.124098   \n",
       "3     20220120_191443___28.55705_77.132781___[org].jpg      1.578941   \n",
       "4    20220120_191528___28.561069_77.133684___[org].jpg      1.545737   \n",
       "..                                                 ...           ...   \n",
       "377   20220122_182803___28.47207_77.487583___[org].jpg      0.551466   \n",
       "378  20220122_182839___28.474239_77.485458___[org].jpg      0.378174   \n",
       "379  20220122_182847___28.474239_77.485458___[org].jpg      0.378174   \n",
       "380  20220122_182904___28.475996_77.483764___[org].jpg      0.402070   \n",
       "381  20220122_182936___28.477578_77.482202___[org].jpg      0.538762   \n",
       "\n",
       "                        closest_monitor  closest_value  \n",
       "0                        IGIAirport_IMD         189.82  \n",
       "1                        IGIAirport_IMD         189.82  \n",
       "2                        IGIAirport_IMD         189.82  \n",
       "3                        IGIAirport_IMD         189.82  \n",
       "4                        IGIAirport_IMD         189.82  \n",
       "..                                  ...            ...  \n",
       "377  KnowledgeParkIIIGreaterNoida_UPPCB          80.00  \n",
       "378  KnowledgeParkIIIGreaterNoida_UPPCB          80.00  \n",
       "379  KnowledgeParkIIIGreaterNoida_UPPCB          80.00  \n",
       "380  KnowledgeParkIIIGreaterNoida_UPPCB          80.00  \n",
       "381  KnowledgeParkIIIGreaterNoida_UPPCB          80.00  \n",
       "\n",
       "[382 rows x 7 columns]"
      ]
     },
     "execution_count": 337,
     "metadata": {},
     "output_type": "execute_result"
    }
   ],
   "source": [
    "df_annot"
   ]
  },
  {
   "cell_type": "code",
   "execution_count": 338,
   "metadata": {},
   "outputs": [],
   "source": [
    "df_annot['filename'] = df_annot['filename'].str[:-4]"
   ]
  },
  {
   "cell_type": "code",
   "execution_count": 339,
   "metadata": {},
   "outputs": [],
   "source": [
    "df_annot = df_annot.set_index('filename')"
   ]
  },
  {
   "cell_type": "code",
   "execution_count": null,
   "metadata": {},
   "outputs": [],
   "source": []
  },
  {
   "cell_type": "code",
   "execution_count": 340,
   "metadata": {},
   "outputs": [],
   "source": [
    "df_act_preds['pred'] = preds_delhi"
   ]
  },
  {
   "cell_type": "code",
   "execution_count": 341,
   "metadata": {},
   "outputs": [],
   "source": [
    "df_ap = df_act_preds.set_index('filename')"
   ]
  },
  {
   "cell_type": "code",
   "execution_count": 342,
   "metadata": {},
   "outputs": [
    {
     "data": {
      "text/html": [
       "<div>\n",
       "<style scoped>\n",
       "    .dataframe tbody tr th:only-of-type {\n",
       "        vertical-align: middle;\n",
       "    }\n",
       "\n",
       "    .dataframe tbody tr th {\n",
       "        vertical-align: top;\n",
       "    }\n",
       "\n",
       "    .dataframe thead th {\n",
       "        text-align: right;\n",
       "    }\n",
       "</style>\n",
       "<table border=\"1\" class=\"dataframe\">\n",
       "  <thead>\n",
       "    <tr style=\"text-align: right;\">\n",
       "      <th></th>\n",
       "      <th>ppm</th>\n",
       "      <th>pred</th>\n",
       "    </tr>\n",
       "    <tr>\n",
       "      <th>filename</th>\n",
       "      <th></th>\n",
       "      <th></th>\n",
       "    </tr>\n",
       "  </thead>\n",
       "  <tbody>\n",
       "    <tr>\n",
       "      <th>20220120_190949___28.552655_77.105907___[org]</th>\n",
       "      <td>189.82</td>\n",
       "      <td>105.093979</td>\n",
       "    </tr>\n",
       "    <tr>\n",
       "      <th>20220120_191219___28.550738_77.120168___[org]</th>\n",
       "      <td>189.82</td>\n",
       "      <td>102.884773</td>\n",
       "    </tr>\n",
       "    <tr>\n",
       "      <th>20220120_191326___28.553902_77.123568___[org]</th>\n",
       "      <td>189.82</td>\n",
       "      <td>214.922028</td>\n",
       "    </tr>\n",
       "    <tr>\n",
       "      <th>20220120_191528___28.561069_77.133684___[org]</th>\n",
       "      <td>189.82</td>\n",
       "      <td>106.155815</td>\n",
       "    </tr>\n",
       "    <tr>\n",
       "      <th>20220120_191554___28.563708_77.133846___[org]</th>\n",
       "      <td>189.82</td>\n",
       "      <td>175.280212</td>\n",
       "    </tr>\n",
       "    <tr>\n",
       "      <th>...</th>\n",
       "      <td>...</td>\n",
       "      <td>...</td>\n",
       "    </tr>\n",
       "    <tr>\n",
       "      <th>20220122_182728___28.469431_77.489894___[org]</th>\n",
       "      <td>80.00</td>\n",
       "      <td>111.917496</td>\n",
       "    </tr>\n",
       "    <tr>\n",
       "      <th>20220122_182741___28.470627_77.488803___[org]</th>\n",
       "      <td>80.00</td>\n",
       "      <td>178.818726</td>\n",
       "    </tr>\n",
       "    <tr>\n",
       "      <th>20220122_182747___28.471369_77.488126___[org]</th>\n",
       "      <td>80.00</td>\n",
       "      <td>110.307358</td>\n",
       "    </tr>\n",
       "    <tr>\n",
       "      <th>20220122_182839___28.474239_77.485458___[org]</th>\n",
       "      <td>80.00</td>\n",
       "      <td>81.863907</td>\n",
       "    </tr>\n",
       "    <tr>\n",
       "      <th>20220122_182904___28.475996_77.483764___[org]</th>\n",
       "      <td>80.00</td>\n",
       "      <td>82.288437</td>\n",
       "    </tr>\n",
       "  </tbody>\n",
       "</table>\n",
       "<p>267 rows × 2 columns</p>\n",
       "</div>"
      ],
      "text/plain": [
       "                                                  ppm        pred\n",
       "filename                                                         \n",
       "20220120_190949___28.552655_77.105907___[org]  189.82  105.093979\n",
       "20220120_191219___28.550738_77.120168___[org]  189.82  102.884773\n",
       "20220120_191326___28.553902_77.123568___[org]  189.82  214.922028\n",
       "20220120_191528___28.561069_77.133684___[org]  189.82  106.155815\n",
       "20220120_191554___28.563708_77.133846___[org]  189.82  175.280212\n",
       "...                                               ...         ...\n",
       "20220122_182728___28.469431_77.489894___[org]   80.00  111.917496\n",
       "20220122_182741___28.470627_77.488803___[org]   80.00  178.818726\n",
       "20220122_182747___28.471369_77.488126___[org]   80.00  110.307358\n",
       "20220122_182839___28.474239_77.485458___[org]   80.00   81.863907\n",
       "20220122_182904___28.475996_77.483764___[org]   80.00   82.288437\n",
       "\n",
       "[267 rows x 2 columns]"
      ]
     },
     "execution_count": 342,
     "metadata": {},
     "output_type": "execute_result"
    }
   ],
   "source": [
    "df_ap"
   ]
  },
  {
   "cell_type": "code",
   "execution_count": 343,
   "metadata": {},
   "outputs": [],
   "source": [
    "df_cm = df_annot['closest_monitor']"
   ]
  },
  {
   "cell_type": "code",
   "execution_count": 344,
   "metadata": {},
   "outputs": [
    {
     "data": {
      "text/plain": [
       "filename\n",
       "20220120_190949___28.552655_77.105907___[org]                        IGIAirport_IMD\n",
       "20220120_191219___28.550738_77.120168___[org]                        IGIAirport_IMD\n",
       "20220120_191326___28.553902_77.123568___[org]                        IGIAirport_IMD\n",
       "20220120_191443___28.55705_77.132781___[org]                         IGIAirport_IMD\n",
       "20220120_191528___28.561069_77.133684___[org]                        IGIAirport_IMD\n",
       "                                                                ...                \n",
       "20220122_182803___28.47207_77.487583___[org]     KnowledgeParkIIIGreaterNoida_UPPCB\n",
       "20220122_182839___28.474239_77.485458___[org]    KnowledgeParkIIIGreaterNoida_UPPCB\n",
       "20220122_182847___28.474239_77.485458___[org]    KnowledgeParkIIIGreaterNoida_UPPCB\n",
       "20220122_182904___28.475996_77.483764___[org]    KnowledgeParkIIIGreaterNoida_UPPCB\n",
       "20220122_182936___28.477578_77.482202___[org]    KnowledgeParkIIIGreaterNoida_UPPCB\n",
       "Name: closest_monitor, Length: 382, dtype: object"
      ]
     },
     "execution_count": 344,
     "metadata": {},
     "output_type": "execute_result"
    }
   ],
   "source": [
    "df_cm"
   ]
  },
  {
   "cell_type": "code",
   "execution_count": 345,
   "metadata": {},
   "outputs": [],
   "source": [
    "df_ap = df_ap.merge(df_cm, on='filename')"
   ]
  },
  {
   "cell_type": "code",
   "execution_count": null,
   "metadata": {},
   "outputs": [],
   "source": []
  },
  {
   "cell_type": "code",
   "execution_count": 346,
   "metadata": {},
   "outputs": [],
   "source": [
    "df_ap = df_ap.groupby('closest_monitor').mean()"
   ]
  },
  {
   "cell_type": "code",
   "execution_count": 347,
   "metadata": {},
   "outputs": [],
   "source": [
    "# df_ap.to_csv('pollution_map_input.csv')"
   ]
  },
  {
   "cell_type": "code",
   "execution_count": 348,
   "metadata": {},
   "outputs": [
    {
     "data": {
      "text/plain": [
       "35.42947462411245"
      ]
     },
     "execution_count": 348,
     "metadata": {},
     "output_type": "execute_result"
    }
   ],
   "source": [
    "abs(df_ap['ppm']-df_ap['pred']).mean()"
   ]
  },
  {
   "cell_type": "code",
   "execution_count": 349,
   "metadata": {},
   "outputs": [
    {
     "data": {
      "text/plain": [
       "14"
      ]
     },
     "execution_count": 349,
     "metadata": {},
     "output_type": "execute_result"
    }
   ],
   "source": [
    "(abs(df_ap['ppm']-df_ap['pred'])<50).sum()"
   ]
  },
  {
   "cell_type": "code",
   "execution_count": null,
   "metadata": {},
   "outputs": [],
   "source": []
  }
 ],
 "metadata": {
  "kernelspec": {
   "display_name": "Python 3 (ipykernel)",
   "language": "python",
   "name": "python3"
  },
  "language_info": {
   "codemirror_mode": {
    "name": "ipython",
    "version": 3
   },
   "file_extension": ".py",
   "mimetype": "text/x-python",
   "name": "python",
   "nbconvert_exporter": "python",
   "pygments_lexer": "ipython3",
   "version": "3.10.0"
  }
 },
 "nbformat": 4,
 "nbformat_minor": 4
}
