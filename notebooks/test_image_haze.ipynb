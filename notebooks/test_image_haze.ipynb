{
 "cells": [
  {
   "cell_type": "code",
   "execution_count": 3,
   "metadata": {},
   "outputs": [
    {
     "name": "stdout",
     "output_type": "stream",
     "text": [
      "The autoreload extension is already loaded. To reload it, use:\n",
      "  %reload_ext autoreload\n"
     ]
    }
   ],
   "source": [
    "%load_ext autoreload\n",
    "%autoreload 2\n",
    "\n",
    "import numpy as np\n",
    "import pandas as pd\n",
    "import sys\n",
    "sys.path.append(\"../\")\n",
    "import torch\n",
    "import torch.nn as nn\n",
    "import torch.optim\n",
    "import torch.utils.data\n",
    "import torchvision.transforms as transforms\n",
    "from PIL import Image\n",
    "from src.train_haze import Dataset, double_conv, UNet\n",
    "import cv2\n",
    "from matplotlib.pyplot import imshow"
   ]
  },
  {
   "cell_type": "code",
   "execution_count": 4,
   "metadata": {},
   "outputs": [],
   "source": [
    "from src.preprocessing.trans_func import *"
   ]
  },
  {
   "cell_type": "code",
   "execution_count": 5,
   "metadata": {},
   "outputs": [],
   "source": [
    "model = UNet()\n",
    "model = torch.nn.DataParallel(model).cuda()\n",
    "model.load_state_dict(torch.load(\"../src/model_haze_china.pth\"),strict=False) # on GPU\n",
    "criterion = nn.MSELoss().cuda()\n",
    "optimizer = torch.optim.Adam(model.parameters(),lr=1e-4)"
   ]
  },
  {
   "cell_type": "code",
   "execution_count": 10,
   "metadata": {},
   "outputs": [],
   "source": [
    "transform = transforms.Compose([transforms.Resize((256,256)),transforms.ToTensor(),transforms.Normalize(mean=[0.5231, 0.5180, 0.5115],std=[0.2014, 0.2018, 0.2100]),])\n",
    "\n",
    "imageName = 'test_shanghai_1.jpg'\n",
    "\n",
    "cv_in = cv2.imread(imageName,1) # color\n",
    "pil_in = Image.fromarray(cv_in)\n",
    "X = transform(pil_in)\n",
    "\n",
    "X = X[None, :, :, :]\n",
    "\n",
    "x = X.cuda(non_blocking=True)\n",
    "x_var = torch.autograd.Variable(x)\n",
    "\n",
    "pred_haze = model(x_var)\n",
    "\n",
    "transform2 = transforms.Compose([transforms.Resize((256,256)),transforms.ToTensor(),])\n",
    "\n",
    "img = cv2.imread(imageName)\n",
    "gray = cv2.cvtColor(img, cv2.COLOR_BGR2GRAY)\n",
    "light_intensity = find_intensity_of_atmospheric_light(img, gray)\n",
    "w = 0.9\n",
    "t0 = 0.01\n",
    "outimg = dehaze(img, light_intensity, 20, t0, w)\n",
    "\n",
    "pil_out = Image.fromarray(outimg)\n",
    "Y = transform2(pil_out)\n",
    "Y = Y[None, :, : :]\n",
    "Y = Y.cuda(non_blocking=True)"
   ]
  },
  {
   "cell_type": "code",
   "execution_count": 11,
   "metadata": {},
   "outputs": [
    {
     "data": {
      "text/plain": [
       "tensor([[[[0.8078, 0.7843, 0.7725,  ..., 0.7412, 0.7451, 0.7686],\n",
       "          [0.8157, 0.7922, 0.7804,  ..., 0.7451, 0.7451, 0.7686],\n",
       "          [0.8235, 0.8000, 0.7922,  ..., 0.7451, 0.7451, 0.7686],\n",
       "          ...,\n",
       "          [0.5412, 0.5294, 0.5294,  ..., 0.4863, 0.4863, 0.4784],\n",
       "          [0.5608, 0.5333, 0.5216,  ..., 0.4745, 0.4471, 0.5098],\n",
       "          [0.5451, 0.5255, 0.5137,  ..., 0.7137, 0.5569, 0.5059]]]],\n",
       "       device='cuda:0')"
      ]
     },
     "execution_count": 11,
     "metadata": {},
     "output_type": "execute_result"
    }
   ],
   "source": [
    "Y"
   ]
  },
  {
   "cell_type": "code",
   "execution_count": 12,
   "metadata": {},
   "outputs": [
    {
     "data": {
      "text/plain": [
       "tensor([[[[0.1534, 0.1753, 0.1818,  ..., 0.2336, 0.2197, 0.1838],\n",
       "          [0.1485, 0.1664, 0.1779,  ..., 0.2371, 0.2246, 0.1992],\n",
       "          [0.1616, 0.1782, 0.1743,  ..., 0.2384, 0.2302, 0.2059],\n",
       "          ...,\n",
       "          [0.4658, 0.4780, 0.4568,  ..., 0.4925, 0.4966, 0.4650],\n",
       "          [0.4339, 0.4710, 0.4697,  ..., 0.4984, 0.5247, 0.4373],\n",
       "          [0.3660, 0.4386, 0.4587,  ..., 0.2778, 0.3684, 0.3470]]]],\n",
       "       device='cuda:0', grad_fn=<AddBackward0>)"
      ]
     },
     "execution_count": 12,
     "metadata": {},
     "output_type": "execute_result"
    }
   ],
   "source": [
    "pred_haze"
   ]
  },
  {
   "cell_type": "code",
   "execution_count": 13,
   "metadata": {},
   "outputs": [
    {
     "data": {
      "text/plain": [
       "tensor(0.1729, device='cuda:0', grad_fn=<MseLossBackward>)"
      ]
     },
     "execution_count": 13,
     "metadata": {},
     "output_type": "execute_result"
    }
   ],
   "source": [
    "criterion(pred_haze, Y)"
   ]
  },
  {
   "cell_type": "code",
   "execution_count": null,
   "metadata": {},
   "outputs": [],
   "source": []
  }
 ],
 "metadata": {
  "interpreter": {
   "hash": "1c209505690e9a4137603cad01759f135318ff5c38f61dc0f12c3bb2c65ef20b"
  },
  "kernelspec": {
   "display_name": "Python 3",
   "language": "python",
   "name": "python3"
  },
  "language_info": {
   "codemirror_mode": {
    "name": "ipython",
    "version": 3
   },
   "file_extension": ".py",
   "mimetype": "text/x-python",
   "name": "python",
   "nbconvert_exporter": "python",
   "pygments_lexer": "ipython3",
   "version": "3.8.11"
  }
 },
 "nbformat": 4,
 "nbformat_minor": 2
}
