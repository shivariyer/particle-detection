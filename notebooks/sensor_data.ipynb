{
 "cells": [
  {
   "cell_type": "code",
   "execution_count": 1,
   "metadata": {},
   "outputs": [],
   "source": [
    "import numpy as np\n",
    "import pandas as pd\n",
    "import datetime\n",
    "import matplotlib.pyplot as plt"
   ]
  },
  {
   "cell_type": "code",
   "execution_count": 2,
   "metadata": {},
   "outputs": [],
   "source": [
    "df_locs = pd.read_csv(\"../../govdata/govdata_locations.csv\")"
   ]
  },
  {
   "cell_type": "code",
   "execution_count": 3,
   "metadata": {},
   "outputs": [],
   "source": [
    "test_locs = df_locs.sample(frac=0.25, random_state=17)"
   ]
  },
  {
   "cell_type": "code",
   "execution_count": 4,
   "metadata": {},
   "outputs": [],
   "source": [
    "train_locs = df_locs.loc[~df_locs.index.isin(test_locs.index)]"
   ]
  },
  {
   "cell_type": "code",
   "execution_count": 6,
   "metadata": {},
   "outputs": [],
   "source": [
    "test_locs.reset_index(inplace=True, drop=True)\n",
    "test_locs.to_csv(\"../../govdata/test_locations.csv\", index=False)\n",
    "train_locs.reset_index(inplace=True, drop=True)\n",
    "train_locs.to_csv(\"../../govdata/train_locations.csv\", index=False)"
   ]
  },
  {
   "cell_type": "code",
   "execution_count": 89,
   "metadata": {},
   "outputs": [],
   "source": [
    "train_locs = train_locs['Monitor ID'].to_list()\n",
    "test_locs = test_locs['Monitor ID'].to_list()"
   ]
  },
  {
   "cell_type": "code",
   "execution_count": 90,
   "metadata": {},
   "outputs": [],
   "source": [
    "df = pd.read_csv(\"../../govdata/govdata_1H_20180501_20201101.csv\")"
   ]
  },
  {
   "cell_type": "code",
   "execution_count": 91,
   "metadata": {},
   "outputs": [],
   "source": [
    "df = df[df['timestamp_round'].str.contains('2019')]"
   ]
  },
  {
   "cell_type": "code",
   "execution_count": 95,
   "metadata": {},
   "outputs": [
    {
     "data": {
      "text/html": [
       "<div>\n",
       "<style scoped>\n",
       "    .dataframe tbody tr th:only-of-type {\n",
       "        vertical-align: middle;\n",
       "    }\n",
       "\n",
       "    .dataframe tbody tr th {\n",
       "        vertical-align: top;\n",
       "    }\n",
       "\n",
       "    .dataframe thead th {\n",
       "        text-align: right;\n",
       "    }\n",
       "</style>\n",
       "<table border=\"1\" class=\"dataframe\">\n",
       "  <thead>\n",
       "    <tr style=\"text-align: right;\">\n",
       "      <th></th>\n",
       "      <th>monitor_id</th>\n",
       "      <th>timestamp_round</th>\n",
       "      <th>AT</th>\n",
       "      <th>RH</th>\n",
       "      <th>WD</th>\n",
       "      <th>WS</th>\n",
       "      <th>pm10</th>\n",
       "      <th>pm25</th>\n",
       "    </tr>\n",
       "  </thead>\n",
       "  <tbody>\n",
       "    <tr>\n",
       "      <th>0</th>\n",
       "      <td>NehruNagar_DPCC</td>\n",
       "      <td>2019-01-01 00:00:00+05:30</td>\n",
       "      <td>9.38</td>\n",
       "      <td>87.00</td>\n",
       "      <td>167.32</td>\n",
       "      <td>0.15</td>\n",
       "      <td>903.25</td>\n",
       "      <td>689.50</td>\n",
       "    </tr>\n",
       "    <tr>\n",
       "      <th>1</th>\n",
       "      <td>NehruNagar_DPCC</td>\n",
       "      <td>2019-01-01 01:00:00+05:30</td>\n",
       "      <td>8.70</td>\n",
       "      <td>89.93</td>\n",
       "      <td>252.92</td>\n",
       "      <td>0.20</td>\n",
       "      <td>807.25</td>\n",
       "      <td>596.00</td>\n",
       "    </tr>\n",
       "    <tr>\n",
       "      <th>2</th>\n",
       "      <td>NehruNagar_DPCC</td>\n",
       "      <td>2019-01-01 02:00:00+05:30</td>\n",
       "      <td>8.38</td>\n",
       "      <td>92.65</td>\n",
       "      <td>222.70</td>\n",
       "      <td>0.30</td>\n",
       "      <td>707.25</td>\n",
       "      <td>524.50</td>\n",
       "    </tr>\n",
       "    <tr>\n",
       "      <th>3</th>\n",
       "      <td>NehruNagar_DPCC</td>\n",
       "      <td>2019-01-01 03:00:00+05:30</td>\n",
       "      <td>8.92</td>\n",
       "      <td>86.12</td>\n",
       "      <td>211.50</td>\n",
       "      <td>0.40</td>\n",
       "      <td>623.25</td>\n",
       "      <td>462.25</td>\n",
       "    </tr>\n",
       "    <tr>\n",
       "      <th>4</th>\n",
       "      <td>NehruNagar_DPCC</td>\n",
       "      <td>2019-01-01 04:00:00+05:30</td>\n",
       "      <td>8.20</td>\n",
       "      <td>89.32</td>\n",
       "      <td>207.95</td>\n",
       "      <td>0.25</td>\n",
       "      <td>510.25</td>\n",
       "      <td>370.50</td>\n",
       "    </tr>\n",
       "    <tr>\n",
       "      <th>...</th>\n",
       "      <td>...</td>\n",
       "      <td>...</td>\n",
       "      <td>...</td>\n",
       "      <td>...</td>\n",
       "      <td>...</td>\n",
       "      <td>...</td>\n",
       "      <td>...</td>\n",
       "      <td>...</td>\n",
       "    </tr>\n",
       "    <tr>\n",
       "      <th>61315</th>\n",
       "      <td>Rohini_DPCC</td>\n",
       "      <td>2019-12-31 19:00:00+05:30</td>\n",
       "      <td>9.40</td>\n",
       "      <td>83.25</td>\n",
       "      <td>336.40</td>\n",
       "      <td>0.62</td>\n",
       "      <td>548.00</td>\n",
       "      <td>432.75</td>\n",
       "    </tr>\n",
       "    <tr>\n",
       "      <th>61316</th>\n",
       "      <td>Rohini_DPCC</td>\n",
       "      <td>2019-12-31 20:00:00+05:30</td>\n",
       "      <td>8.65</td>\n",
       "      <td>88.10</td>\n",
       "      <td>149.20</td>\n",
       "      <td>0.38</td>\n",
       "      <td>NaN</td>\n",
       "      <td>731.50</td>\n",
       "    </tr>\n",
       "    <tr>\n",
       "      <th>61317</th>\n",
       "      <td>Rohini_DPCC</td>\n",
       "      <td>2019-12-31 21:00:00+05:30</td>\n",
       "      <td>7.95</td>\n",
       "      <td>86.35</td>\n",
       "      <td>285.95</td>\n",
       "      <td>0.60</td>\n",
       "      <td>NaN</td>\n",
       "      <td>807.50</td>\n",
       "    </tr>\n",
       "    <tr>\n",
       "      <th>61318</th>\n",
       "      <td>Rohini_DPCC</td>\n",
       "      <td>2019-12-31 22:00:00+05:30</td>\n",
       "      <td>7.65</td>\n",
       "      <td>89.45</td>\n",
       "      <td>104.10</td>\n",
       "      <td>0.53</td>\n",
       "      <td>NaN</td>\n",
       "      <td>787.75</td>\n",
       "    </tr>\n",
       "    <tr>\n",
       "      <th>61319</th>\n",
       "      <td>Rohini_DPCC</td>\n",
       "      <td>2019-12-31 23:00:00+05:30</td>\n",
       "      <td>7.90</td>\n",
       "      <td>86.48</td>\n",
       "      <td>24.85</td>\n",
       "      <td>0.83</td>\n",
       "      <td>668.00</td>\n",
       "      <td>765.50</td>\n",
       "    </tr>\n",
       "  </tbody>\n",
       "</table>\n",
       "<p>61320 rows × 8 columns</p>\n",
       "</div>"
      ],
      "text/plain": [
       "            monitor_id            timestamp_round    AT     RH      WD    WS  \\\n",
       "0      NehruNagar_DPCC  2019-01-01 00:00:00+05:30  9.38  87.00  167.32  0.15   \n",
       "1      NehruNagar_DPCC  2019-01-01 01:00:00+05:30  8.70  89.93  252.92  0.20   \n",
       "2      NehruNagar_DPCC  2019-01-01 02:00:00+05:30  8.38  92.65  222.70  0.30   \n",
       "3      NehruNagar_DPCC  2019-01-01 03:00:00+05:30  8.92  86.12  211.50  0.40   \n",
       "4      NehruNagar_DPCC  2019-01-01 04:00:00+05:30  8.20  89.32  207.95  0.25   \n",
       "...                ...                        ...   ...    ...     ...   ...   \n",
       "61315      Rohini_DPCC  2019-12-31 19:00:00+05:30  9.40  83.25  336.40  0.62   \n",
       "61316      Rohini_DPCC  2019-12-31 20:00:00+05:30  8.65  88.10  149.20  0.38   \n",
       "61317      Rohini_DPCC  2019-12-31 21:00:00+05:30  7.95  86.35  285.95  0.60   \n",
       "61318      Rohini_DPCC  2019-12-31 22:00:00+05:30  7.65  89.45  104.10  0.53   \n",
       "61319      Rohini_DPCC  2019-12-31 23:00:00+05:30  7.90  86.48   24.85  0.83   \n",
       "\n",
       "         pm10    pm25  \n",
       "0      903.25  689.50  \n",
       "1      807.25  596.00  \n",
       "2      707.25  524.50  \n",
       "3      623.25  462.25  \n",
       "4      510.25  370.50  \n",
       "...       ...     ...  \n",
       "61315  548.00  432.75  \n",
       "61316     NaN  731.50  \n",
       "61317     NaN  807.50  \n",
       "61318     NaN  787.75  \n",
       "61319  668.00  765.50  \n",
       "\n",
       "[61320 rows x 8 columns]"
      ]
     },
     "execution_count": 95,
     "metadata": {},
     "output_type": "execute_result"
    }
   ],
   "source": [
    "df"
   ]
  },
  {
   "cell_type": "code",
   "execution_count": 93,
   "metadata": {},
   "outputs": [],
   "source": [
    "df_list = []\n",
    "for locs in test_locs:\n",
    "    df_list.append(df[df['monitor_id']==locs])\n",
    "df = pd.concat(df_list)"
   ]
  },
  {
   "cell_type": "code",
   "execution_count": 94,
   "metadata": {},
   "outputs": [],
   "source": [
    "df.reset_index(inplace=True, drop=True)"
   ]
  },
  {
   "cell_type": "code",
   "execution_count": 96,
   "metadata": {},
   "outputs": [],
   "source": [
    "df.to_csv(\"../../govdata/test.csv\", index=False)"
   ]
  },
  {
   "cell_type": "code",
   "execution_count": null,
   "metadata": {},
   "outputs": [],
   "source": []
  }
 ],
 "metadata": {
  "kernelspec": {
   "display_name": "Python 3",
   "language": "python",
   "name": "python3"
  },
  "language_info": {
   "codemirror_mode": {
    "name": "ipython",
    "version": 3
   },
   "file_extension": ".py",
   "mimetype": "text/x-python",
   "name": "python",
   "nbconvert_exporter": "python",
   "pygments_lexer": "ipython3",
   "version": "3.8.11"
  }
 },
 "nbformat": 4,
 "nbformat_minor": 4
}
