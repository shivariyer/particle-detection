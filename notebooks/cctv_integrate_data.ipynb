{
 "cells": [
  {
   "cell_type": "code",
   "execution_count": 1,
   "id": "0e853297",
   "metadata": {},
   "outputs": [],
   "source": [
    "import sys\n",
    "import os\n",
    "import subprocess\n",
    "import glob"
   ]
  },
  {
   "cell_type": "code",
   "execution_count": 2,
   "id": "2c119ee5",
   "metadata": {},
   "outputs": [],
   "source": [
    "file_list = glob.glob('/scratch/ab9738/pollution_img/cctv_delhi/Raw/CCTV Images/*/*/*')"
   ]
  },
  {
   "cell_type": "code",
   "execution_count": 3,
   "id": "61e97675",
   "metadata": {},
   "outputs": [],
   "source": [
    "import pandas as pd\n",
    "import numpy as np"
   ]
  },
  {
   "cell_type": "code",
   "execution_count": 4,
   "id": "5ba6ad7b",
   "metadata": {},
   "outputs": [
    {
     "name": "stdout",
     "output_type": "stream",
     "text": [
      "Collecting openpyxl\n",
      "  Downloading openpyxl-3.0.10-py2.py3-none-any.whl (242 kB)\n",
      "\u001b[2K     \u001b[90m━━━━━━━━━━━━━━━━━━━━━━━━━━━━━━━━━━━━━━\u001b[0m \u001b[32m242.1/242.1 kB\u001b[0m \u001b[31m30.8 MB/s\u001b[0m eta \u001b[36m0:00:00\u001b[0m\n",
      "\u001b[?25hCollecting et-xmlfile\n",
      "  Downloading et_xmlfile-1.1.0-py3-none-any.whl (4.7 kB)\n",
      "Installing collected packages: et-xmlfile, openpyxl\n",
      "Successfully installed et-xmlfile-1.1.0 openpyxl-3.0.10\n"
     ]
    }
   ],
   "source": [
    "!pip install openpyxl"
   ]
  },
  {
   "cell_type": "code",
   "execution_count": 5,
   "id": "7d593c97",
   "metadata": {},
   "outputs": [],
   "source": [
    "df = pd.read_excel('/scratch/ab9738/pollution_img/code/cctv_aqi.xlsx')"
   ]
  },
  {
   "cell_type": "code",
   "execution_count": 6,
   "id": "9a0356cf",
   "metadata": {},
   "outputs": [
    {
     "data": {
      "text/html": [
       "<div>\n",
       "<style scoped>\n",
       "    .dataframe tbody tr th:only-of-type {\n",
       "        vertical-align: middle;\n",
       "    }\n",
       "\n",
       "    .dataframe tbody tr th {\n",
       "        vertical-align: top;\n",
       "    }\n",
       "\n",
       "    .dataframe thead th {\n",
       "        text-align: right;\n",
       "    }\n",
       "</style>\n",
       "<table border=\"1\" class=\"dataframe\">\n",
       "  <thead>\n",
       "    <tr style=\"text-align: right;\">\n",
       "      <th></th>\n",
       "      <th>File_name</th>\n",
       "      <th>ODE_ID</th>\n",
       "      <th>Camera_name</th>\n",
       "      <th>Camera_location</th>\n",
       "      <th>Camera_lat</th>\n",
       "      <th>Camera_lon</th>\n",
       "      <th>Station_name</th>\n",
       "      <th>Station_lat</th>\n",
       "      <th>Station_lon</th>\n",
       "      <th>Date</th>\n",
       "      <th>Time</th>\n",
       "      <th>PM 2.5</th>\n",
       "      <th>PM 10</th>\n",
       "    </tr>\n",
       "  </thead>\n",
       "  <tbody>\n",
       "    <tr>\n",
       "      <th>886</th>\n",
       "      <td>chan01_20220420_050141.jpg</td>\n",
       "      <td>408511.0</td>\n",
       "      <td>chan01</td>\n",
       "      <td>H. No. 822, Type-3, Mandir Marg, New Delhi</td>\n",
       "      <td>28.637574</td>\n",
       "      <td>77.202628</td>\n",
       "      <td>Mandir Marg</td>\n",
       "      <td>28.636424</td>\n",
       "      <td>77.201121</td>\n",
       "      <td>04-20-2022</td>\n",
       "      <td>05:01:41</td>\n",
       "      <td>107.0</td>\n",
       "      <td>268.0</td>\n",
       "    </tr>\n",
       "    <tr>\n",
       "      <th>905</th>\n",
       "      <td>chan02_20220420_120145.jpg</td>\n",
       "      <td>408511.0</td>\n",
       "      <td>chan02</td>\n",
       "      <td>H. No. 822, Type-3, Mandir Marg, New Delhi</td>\n",
       "      <td>28.637574</td>\n",
       "      <td>77.202628</td>\n",
       "      <td>Mandir Marg</td>\n",
       "      <td>28.636424</td>\n",
       "      <td>77.201121</td>\n",
       "      <td>04-20-2022</td>\n",
       "      <td>12:01:45</td>\n",
       "      <td>73.0</td>\n",
       "      <td>223.0</td>\n",
       "    </tr>\n",
       "  </tbody>\n",
       "</table>\n",
       "</div>"
      ],
      "text/plain": [
       "                      File_name    ODE_ID Camera_name  \\\n",
       "886  chan01_20220420_050141.jpg  408511.0      chan01   \n",
       "905  chan02_20220420_120145.jpg  408511.0      chan02   \n",
       "\n",
       "                                Camera_location  Camera_lat  Camera_lon  \\\n",
       "886  H. No. 822, Type-3, Mandir Marg, New Delhi   28.637574   77.202628   \n",
       "905  H. No. 822, Type-3, Mandir Marg, New Delhi   28.637574   77.202628   \n",
       "\n",
       "    Station_name  Station_lat  Station_lon        Date      Time  PM 2.5  \\\n",
       "886  Mandir Marg    28.636424    77.201121  04-20-2022  05:01:41   107.0   \n",
       "905  Mandir Marg    28.636424    77.201121  04-20-2022  12:01:45    73.0   \n",
       "\n",
       "     PM 10  \n",
       "886  268.0  \n",
       "905  223.0  "
      ]
     },
     "execution_count": 6,
     "metadata": {},
     "output_type": "execute_result"
    }
   ],
   "source": [
    "df[df['File_name'].duplicated()==True]"
   ]
  },
  {
   "cell_type": "code",
   "execution_count": 7,
   "id": "08b40de0",
   "metadata": {},
   "outputs": [],
   "source": [
    "for file in file_list:\n",
    "    filename = file.split('/')[-3]+'_'+file.split('/')[-1]\n",
    "    dest = '/scratch/ab9738/pollution_img/data/'+filename\n",
    "    subprocess.call(['cp', file, dest])"
   ]
  },
  {
   "cell_type": "code",
   "execution_count": 8,
   "id": "6b7ddfa0",
   "metadata": {},
   "outputs": [],
   "source": [
    "for file in file_list:\n",
    "    filename = file.split('/')[-1]\n",
    "    extract = df[df['File_name']==filename]\n",
    "    if(len(extract)==1):\n",
    "        idx = extract.index[0]\n",
    "        df.at[idx,'File_name'] = file.split('/')[-3]+'_'+filename"
   ]
  },
  {
   "cell_type": "code",
   "execution_count": 9,
   "id": "93b8c3ef",
   "metadata": {},
   "outputs": [],
   "source": [
    "df_vals = df[['File_name','PM 2.5']].dropna()"
   ]
  },
  {
   "cell_type": "code",
   "execution_count": 10,
   "id": "50e652ad",
   "metadata": {},
   "outputs": [],
   "source": [
    "df_vals = df_vals.drop(df_vals[df_vals['File_name'].str[0]=='c'].index)"
   ]
  },
  {
   "cell_type": "code",
   "execution_count": 11,
   "id": "c1496015",
   "metadata": {},
   "outputs": [],
   "source": [
    "df_vals.columns = ['filename','ppm']"
   ]
  },
  {
   "cell_type": "code",
   "execution_count": 12,
   "id": "10c8ea4c",
   "metadata": {},
   "outputs": [],
   "source": [
    "df_vals = df_vals.reset_index(drop=True)"
   ]
  },
  {
   "cell_type": "code",
   "execution_count": 13,
   "id": "cc54d383",
   "metadata": {},
   "outputs": [],
   "source": [
    "df_vals['filename'] = df_vals['filename'].str[:-4]"
   ]
  },
  {
   "cell_type": "code",
   "execution_count": 14,
   "id": "e10d6867",
   "metadata": {},
   "outputs": [
    {
     "data": {
      "text/html": [
       "<div>\n",
       "<style scoped>\n",
       "    .dataframe tbody tr th:only-of-type {\n",
       "        vertical-align: middle;\n",
       "    }\n",
       "\n",
       "    .dataframe tbody tr th {\n",
       "        vertical-align: top;\n",
       "    }\n",
       "\n",
       "    .dataframe thead th {\n",
       "        text-align: right;\n",
       "    }\n",
       "</style>\n",
       "<table border=\"1\" class=\"dataframe\">\n",
       "  <thead>\n",
       "    <tr style=\"text-align: right;\">\n",
       "      <th></th>\n",
       "      <th>filename</th>\n",
       "      <th>ppm</th>\n",
       "    </tr>\n",
       "  </thead>\n",
       "  <tbody>\n",
       "    <tr>\n",
       "      <th>0</th>\n",
       "      <td>DITE, Okhla Industrial Area_523324_chan01_2022...</td>\n",
       "      <td>56.0</td>\n",
       "    </tr>\n",
       "    <tr>\n",
       "      <th>1</th>\n",
       "      <td>DITE, Okhla Industrial Area_523324_chan01_2022...</td>\n",
       "      <td>39.0</td>\n",
       "    </tr>\n",
       "    <tr>\n",
       "      <th>2</th>\n",
       "      <td>DITE, Okhla Industrial Area_523324_chan01_2022...</td>\n",
       "      <td>38.0</td>\n",
       "    </tr>\n",
       "    <tr>\n",
       "      <th>3</th>\n",
       "      <td>DITE, Okhla Industrial Area_523324_chan01_2022...</td>\n",
       "      <td>44.0</td>\n",
       "    </tr>\n",
       "    <tr>\n",
       "      <th>4</th>\n",
       "      <td>DITE, Okhla Industrial Area_523324_chan01_2022...</td>\n",
       "      <td>39.0</td>\n",
       "    </tr>\n",
       "    <tr>\n",
       "      <th>...</th>\n",
       "      <td>...</td>\n",
       "      <td>...</td>\n",
       "    </tr>\n",
       "    <tr>\n",
       "      <th>890</th>\n",
       "      <td>N.P. Boys Sr. Sec. School_408511_chan03_202204...</td>\n",
       "      <td>159.0</td>\n",
       "    </tr>\n",
       "    <tr>\n",
       "      <th>891</th>\n",
       "      <td>N.P. Boys Sr. Sec. School_408511_chan03_202204...</td>\n",
       "      <td>174.0</td>\n",
       "    </tr>\n",
       "    <tr>\n",
       "      <th>892</th>\n",
       "      <td>N.P. Boys Sr. Sec. School_408511_chan03_202204...</td>\n",
       "      <td>141.0</td>\n",
       "    </tr>\n",
       "    <tr>\n",
       "      <th>893</th>\n",
       "      <td>N.P. Boys Sr. Sec. School_408511_chan03_202204...</td>\n",
       "      <td>111.0</td>\n",
       "    </tr>\n",
       "    <tr>\n",
       "      <th>894</th>\n",
       "      <td>N.P. Boys Sr. Sec. School_408511_chan03_202204...</td>\n",
       "      <td>73.0</td>\n",
       "    </tr>\n",
       "  </tbody>\n",
       "</table>\n",
       "<p>895 rows × 2 columns</p>\n",
       "</div>"
      ],
      "text/plain": [
       "                                              filename    ppm\n",
       "0    DITE, Okhla Industrial Area_523324_chan01_2022...   56.0\n",
       "1    DITE, Okhla Industrial Area_523324_chan01_2022...   39.0\n",
       "2    DITE, Okhla Industrial Area_523324_chan01_2022...   38.0\n",
       "3    DITE, Okhla Industrial Area_523324_chan01_2022...   44.0\n",
       "4    DITE, Okhla Industrial Area_523324_chan01_2022...   39.0\n",
       "..                                                 ...    ...\n",
       "890  N.P. Boys Sr. Sec. School_408511_chan03_202204...  159.0\n",
       "891  N.P. Boys Sr. Sec. School_408511_chan03_202204...  174.0\n",
       "892  N.P. Boys Sr. Sec. School_408511_chan03_202204...  141.0\n",
       "893  N.P. Boys Sr. Sec. School_408511_chan03_202204...  111.0\n",
       "894  N.P. Boys Sr. Sec. School_408511_chan03_202204...   73.0\n",
       "\n",
       "[895 rows x 2 columns]"
      ]
     },
     "execution_count": 14,
     "metadata": {},
     "output_type": "execute_result"
    }
   ],
   "source": [
    "df_vals"
   ]
  },
  {
   "cell_type": "code",
   "execution_count": 66,
   "id": "be76da3d",
   "metadata": {},
   "outputs": [],
   "source": [
    "all_data = pd.read_csv('/scratch/ab9738/pollution_img/code/all_data.csv')"
   ]
  },
  {
   "cell_type": "code",
   "execution_count": 67,
   "id": "979d346d",
   "metadata": {},
   "outputs": [
    {
     "data": {
      "text/html": [
       "<div>\n",
       "<style scoped>\n",
       "    .dataframe tbody tr th:only-of-type {\n",
       "        vertical-align: middle;\n",
       "    }\n",
       "\n",
       "    .dataframe tbody tr th {\n",
       "        vertical-align: top;\n",
       "    }\n",
       "\n",
       "    .dataframe thead th {\n",
       "        text-align: right;\n",
       "    }\n",
       "</style>\n",
       "<table border=\"1\" class=\"dataframe\">\n",
       "  <thead>\n",
       "    <tr style=\"text-align: right;\">\n",
       "      <th></th>\n",
       "      <th>filename</th>\n",
       "      <th>ppm</th>\n",
       "    </tr>\n",
       "  </thead>\n",
       "  <tbody>\n",
       "    <tr>\n",
       "      <th>0</th>\n",
       "      <td>50294736_435828830291236_2030158088675541642_n</td>\n",
       "      <td>138.065714</td>\n",
       "    </tr>\n",
       "    <tr>\n",
       "      <th>1</th>\n",
       "      <td>23279786_148197742578856_6378254909640278016_n</td>\n",
       "      <td>523.672857</td>\n",
       "    </tr>\n",
       "    <tr>\n",
       "      <th>2</th>\n",
       "      <td>23416386_1840710242870758_1418351604486111232_n</td>\n",
       "      <td>523.672857</td>\n",
       "    </tr>\n",
       "    <tr>\n",
       "      <th>3</th>\n",
       "      <td>23279242_754613681413241_2636689794633039872_n</td>\n",
       "      <td>523.672857</td>\n",
       "    </tr>\n",
       "    <tr>\n",
       "      <th>4</th>\n",
       "      <td>23421744_157913204814458_5150676316399337472_n</td>\n",
       "      <td>205.317500</td>\n",
       "    </tr>\n",
       "    <tr>\n",
       "      <th>...</th>\n",
       "      <td>...</td>\n",
       "      <td>...</td>\n",
       "    </tr>\n",
       "    <tr>\n",
       "      <th>4344</th>\n",
       "      <td>Beijing/2014_11_27_0732_mod</td>\n",
       "      <td>14.000000</td>\n",
       "    </tr>\n",
       "    <tr>\n",
       "      <th>4345</th>\n",
       "      <td>Beijing/2014_12_27_0806_mod</td>\n",
       "      <td>182.000000</td>\n",
       "    </tr>\n",
       "    <tr>\n",
       "      <th>4346</th>\n",
       "      <td>Beijing/2014_03_05_0710_mod</td>\n",
       "      <td>35.000000</td>\n",
       "    </tr>\n",
       "    <tr>\n",
       "      <th>4347</th>\n",
       "      <td>Beijing/2014_03_18_0701_mod</td>\n",
       "      <td>20.000000</td>\n",
       "    </tr>\n",
       "    <tr>\n",
       "      <th>4348</th>\n",
       "      <td>Beijing/2014_08_02_0623_mod</td>\n",
       "      <td>62.000000</td>\n",
       "    </tr>\n",
       "  </tbody>\n",
       "</table>\n",
       "<p>4349 rows × 2 columns</p>\n",
       "</div>"
      ],
      "text/plain": [
       "                                             filename         ppm\n",
       "0      50294736_435828830291236_2030158088675541642_n  138.065714\n",
       "1      23279786_148197742578856_6378254909640278016_n  523.672857\n",
       "2     23416386_1840710242870758_1418351604486111232_n  523.672857\n",
       "3      23279242_754613681413241_2636689794633039872_n  523.672857\n",
       "4      23421744_157913204814458_5150676316399337472_n  205.317500\n",
       "...                                               ...         ...\n",
       "4344                      Beijing/2014_11_27_0732_mod   14.000000\n",
       "4345                      Beijing/2014_12_27_0806_mod  182.000000\n",
       "4346                      Beijing/2014_03_05_0710_mod   35.000000\n",
       "4347                      Beijing/2014_03_18_0701_mod   20.000000\n",
       "4348                      Beijing/2014_08_02_0623_mod   62.000000\n",
       "\n",
       "[4349 rows x 2 columns]"
      ]
     },
     "execution_count": 67,
     "metadata": {},
     "output_type": "execute_result"
    }
   ],
   "source": [
    "all_data"
   ]
  },
  {
   "cell_type": "code",
   "execution_count": 15,
   "id": "c1f6669c",
   "metadata": {},
   "outputs": [],
   "source": [
    "train_cctv = df_vals.sample(frac=0.8,random_state=17)\n",
    "test_cctv = df_vals.loc[~df_vals.index.isin(train_cctv.index)]"
   ]
  },
  {
   "cell_type": "code",
   "execution_count": 16,
   "id": "0efce448",
   "metadata": {},
   "outputs": [
    {
     "data": {
      "text/html": [
       "<div>\n",
       "<style scoped>\n",
       "    .dataframe tbody tr th:only-of-type {\n",
       "        vertical-align: middle;\n",
       "    }\n",
       "\n",
       "    .dataframe tbody tr th {\n",
       "        vertical-align: top;\n",
       "    }\n",
       "\n",
       "    .dataframe thead th {\n",
       "        text-align: right;\n",
       "    }\n",
       "</style>\n",
       "<table border=\"1\" class=\"dataframe\">\n",
       "  <thead>\n",
       "    <tr style=\"text-align: right;\">\n",
       "      <th></th>\n",
       "      <th>filename</th>\n",
       "      <th>ppm</th>\n",
       "    </tr>\n",
       "  </thead>\n",
       "  <tbody>\n",
       "    <tr>\n",
       "      <th>644</th>\n",
       "      <td>RK Puram_440526_chan02_20220315_010141</td>\n",
       "      <td>168.0</td>\n",
       "    </tr>\n",
       "    <tr>\n",
       "      <th>561</th>\n",
       "      <td>RK Puram_440526_chan01_20220309_040139</td>\n",
       "      <td>100.0</td>\n",
       "    </tr>\n",
       "    <tr>\n",
       "      <th>261</th>\n",
       "      <td>Sonia Vihar Water Treatment Plant_701135_chan0...</td>\n",
       "      <td>45.0</td>\n",
       "    </tr>\n",
       "    <tr>\n",
       "      <th>69</th>\n",
       "      <td>Sector 8, Dwarka_361115_chan01_20211011_221908</td>\n",
       "      <td>88.0</td>\n",
       "    </tr>\n",
       "    <tr>\n",
       "      <th>472</th>\n",
       "      <td>Sri Aurobindo Marg_456540_chan02_20220315_015035</td>\n",
       "      <td>106.0</td>\n",
       "    </tr>\n",
       "    <tr>\n",
       "      <th>...</th>\n",
       "      <td>...</td>\n",
       "      <td>...</td>\n",
       "    </tr>\n",
       "    <tr>\n",
       "      <th>373</th>\n",
       "      <td>Sonia Vihar Water Treatment Plant_701135_chan0...</td>\n",
       "      <td>119.0</td>\n",
       "    </tr>\n",
       "    <tr>\n",
       "      <th>497</th>\n",
       "      <td>Sri Aurobindo Marg_456540_chan02_20220316_005027</td>\n",
       "      <td>95.0</td>\n",
       "    </tr>\n",
       "    <tr>\n",
       "      <th>405</th>\n",
       "      <td>Sonia Vihar Water Treatment Plant_701135_chan0...</td>\n",
       "      <td>55.0</td>\n",
       "    </tr>\n",
       "    <tr>\n",
       "      <th>302</th>\n",
       "      <td>Sonia Vihar Water Treatment Plant_701135_chan0...</td>\n",
       "      <td>66.0</td>\n",
       "    </tr>\n",
       "    <tr>\n",
       "      <th>638</th>\n",
       "      <td>RK Puram_440526_chan01_20220315_190141</td>\n",
       "      <td>81.0</td>\n",
       "    </tr>\n",
       "  </tbody>\n",
       "</table>\n",
       "<p>716 rows × 2 columns</p>\n",
       "</div>"
      ],
      "text/plain": [
       "                                              filename    ppm\n",
       "644             RK Puram_440526_chan02_20220315_010141  168.0\n",
       "561             RK Puram_440526_chan01_20220309_040139  100.0\n",
       "261  Sonia Vihar Water Treatment Plant_701135_chan0...   45.0\n",
       "69      Sector 8, Dwarka_361115_chan01_20211011_221908   88.0\n",
       "472   Sri Aurobindo Marg_456540_chan02_20220315_015035  106.0\n",
       "..                                                 ...    ...\n",
       "373  Sonia Vihar Water Treatment Plant_701135_chan0...  119.0\n",
       "497   Sri Aurobindo Marg_456540_chan02_20220316_005027   95.0\n",
       "405  Sonia Vihar Water Treatment Plant_701135_chan0...   55.0\n",
       "302  Sonia Vihar Water Treatment Plant_701135_chan0...   66.0\n",
       "638             RK Puram_440526_chan01_20220315_190141   81.0\n",
       "\n",
       "[716 rows x 2 columns]"
      ]
     },
     "execution_count": 16,
     "metadata": {},
     "output_type": "execute_result"
    }
   ],
   "source": [
    "train_cctv"
   ]
  },
  {
   "cell_type": "code",
   "execution_count": 18,
   "id": "036633bf",
   "metadata": {},
   "outputs": [],
   "source": [
    "# train_df = pd.concat([train_cctv, all_data], axis=0)\n",
    "train_df = train_cctv.reset_index(drop=True)\n",
    "train_df.to_csv('/scratch/ab9738/pollution_img/code/train_data.csv', index=False)"
   ]
  },
  {
   "cell_type": "code",
   "execution_count": 19,
   "id": "f3f686f1",
   "metadata": {},
   "outputs": [],
   "source": [
    "test_df = test_cctv.reset_index(drop=True)\n",
    "test_df.to_csv('/scratch/ab9738/pollution_img/code/test_data.csv', index=False)"
   ]
  },
  {
   "cell_type": "code",
   "execution_count": null,
   "id": "ec1e8957",
   "metadata": {},
   "outputs": [],
   "source": []
  }
 ],
 "metadata": {
  "kernelspec": {
   "display_name": "Python 3 (ipykernel)",
   "language": "python",
   "name": "python3"
  },
  "language_info": {
   "codemirror_mode": {
    "name": "ipython",
    "version": 3
   },
   "file_extension": ".py",
   "mimetype": "text/x-python",
   "name": "python",
   "nbconvert_exporter": "python",
   "pygments_lexer": "ipython3",
   "version": "3.10.0"
  }
 },
 "nbformat": 4,
 "nbformat_minor": 5
}
